{
 "cells": [
  {
   "cell_type": "markdown",
   "id": "10f67380",
   "metadata": {},
   "source": [
    "Organizing the data for running regression based on the website below (pg 2)  \n",
    "https://www.princeton.edu/~otorres/Panel101.pdf"
   ]
  },
  {
   "cell_type": "code",
   "execution_count": 1,
   "id": "ae841f5c",
   "metadata": {},
   "outputs": [],
   "source": [
    "import pandas as pd \n",
    "import numpy as np\n",
    "import pathlib"
   ]
  },
  {
   "cell_type": "markdown",
   "id": "42d17d1c",
   "metadata": {},
   "source": [
    "          "
   ]
  },
  {
   "cell_type": "markdown",
   "id": "78e66270",
   "metadata": {},
   "source": [
    "## Cyclically Adjusted Primary Balance Data"
   ]
  },
  {
   "cell_type": "markdown",
   "id": "dd892187",
   "metadata": {},
   "source": [
    "Source: OECD  \n",
    "Measure: Cyclically-adjusted general government primary balance  \n",
    "https://data-explorer.oecd.org/?lc=en&pg=0  "
   ]
  },
  {
   "cell_type": "code",
   "execution_count": 2,
   "id": "7b6d32b0",
   "metadata": {},
   "outputs": [],
   "source": [
    "# importing cyclically adjusted primary balance data\n",
    "df_CAPB = pd.read_csv('/Users/aadityakumaryadav/Downloads/OECD Data/OECD CAPB.csv')"
   ]
  },
  {
   "cell_type": "code",
   "execution_count": 3,
   "id": "e7d4e895",
   "metadata": {},
   "outputs": [
    {
     "data": {
      "text/html": [
       "<div>\n",
       "<style scoped>\n",
       "    .dataframe tbody tr th:only-of-type {\n",
       "        vertical-align: middle;\n",
       "    }\n",
       "\n",
       "    .dataframe tbody tr th {\n",
       "        vertical-align: top;\n",
       "    }\n",
       "\n",
       "    .dataframe thead th {\n",
       "        text-align: right;\n",
       "    }\n",
       "</style>\n",
       "<table border=\"1\" class=\"dataframe\">\n",
       "  <thead>\n",
       "    <tr style=\"text-align: right;\">\n",
       "      <th></th>\n",
       "      <th>STRUCTURE</th>\n",
       "      <th>STRUCTURE_ID</th>\n",
       "      <th>STRUCTURE_NAME</th>\n",
       "      <th>ACTION</th>\n",
       "      <th>REF_AREA</th>\n",
       "      <th>Reference area</th>\n",
       "      <th>MEASURE</th>\n",
       "      <th>Measure</th>\n",
       "      <th>FREQ</th>\n",
       "      <th>Frequency of observation</th>\n",
       "      <th>...</th>\n",
       "      <th>BASE_PER</th>\n",
       "      <th>Base period</th>\n",
       "      <th>METHODOLOGY</th>\n",
       "      <th>Methodology</th>\n",
       "      <th>DECIMALS</th>\n",
       "      <th>Decimals</th>\n",
       "      <th>PRICE_BASE</th>\n",
       "      <th>Price base</th>\n",
       "      <th>ADJUSTMENT</th>\n",
       "      <th>Adjustment</th>\n",
       "    </tr>\n",
       "  </thead>\n",
       "  <tbody>\n",
       "    <tr>\n",
       "      <th>0</th>\n",
       "      <td>DATAFLOW</td>\n",
       "      <td>OECD.ECO.MAD:DSD_EO@DF_EO(1.3)</td>\n",
       "      <td>Economic Outlook 117</td>\n",
       "      <td>I</td>\n",
       "      <td>EA17</td>\n",
       "      <td>Euro area (17 countries)</td>\n",
       "      <td>NLGXQA</td>\n",
       "      <td>Cyclically-adjusted general government primary...</td>\n",
       "      <td>A</td>\n",
       "      <td>Annual</td>\n",
       "      <td>...</td>\n",
       "      <td>NaN</td>\n",
       "      <td>NaN</td>\n",
       "      <td>NaN</td>\n",
       "      <td>NaN</td>\n",
       "      <td>2</td>\n",
       "      <td>Two</td>\n",
       "      <td>NaN</td>\n",
       "      <td>NaN</td>\n",
       "      <td>C</td>\n",
       "      <td>Trend-cycle, calendar adjusted</td>\n",
       "    </tr>\n",
       "    <tr>\n",
       "      <th>1</th>\n",
       "      <td>DATAFLOW</td>\n",
       "      <td>OECD.ECO.MAD:DSD_EO@DF_EO(1.3)</td>\n",
       "      <td>Economic Outlook 117</td>\n",
       "      <td>I</td>\n",
       "      <td>EA17</td>\n",
       "      <td>Euro area (17 countries)</td>\n",
       "      <td>NLGXQA</td>\n",
       "      <td>Cyclically-adjusted general government primary...</td>\n",
       "      <td>A</td>\n",
       "      <td>Annual</td>\n",
       "      <td>...</td>\n",
       "      <td>NaN</td>\n",
       "      <td>NaN</td>\n",
       "      <td>NaN</td>\n",
       "      <td>NaN</td>\n",
       "      <td>2</td>\n",
       "      <td>Two</td>\n",
       "      <td>NaN</td>\n",
       "      <td>NaN</td>\n",
       "      <td>C</td>\n",
       "      <td>Trend-cycle, calendar adjusted</td>\n",
       "    </tr>\n",
       "    <tr>\n",
       "      <th>2</th>\n",
       "      <td>DATAFLOW</td>\n",
       "      <td>OECD.ECO.MAD:DSD_EO@DF_EO(1.3)</td>\n",
       "      <td>Economic Outlook 117</td>\n",
       "      <td>I</td>\n",
       "      <td>EA17</td>\n",
       "      <td>Euro area (17 countries)</td>\n",
       "      <td>NLGXQA</td>\n",
       "      <td>Cyclically-adjusted general government primary...</td>\n",
       "      <td>A</td>\n",
       "      <td>Annual</td>\n",
       "      <td>...</td>\n",
       "      <td>NaN</td>\n",
       "      <td>NaN</td>\n",
       "      <td>NaN</td>\n",
       "      <td>NaN</td>\n",
       "      <td>2</td>\n",
       "      <td>Two</td>\n",
       "      <td>NaN</td>\n",
       "      <td>NaN</td>\n",
       "      <td>C</td>\n",
       "      <td>Trend-cycle, calendar adjusted</td>\n",
       "    </tr>\n",
       "    <tr>\n",
       "      <th>3</th>\n",
       "      <td>DATAFLOW</td>\n",
       "      <td>OECD.ECO.MAD:DSD_EO@DF_EO(1.3)</td>\n",
       "      <td>Economic Outlook 117</td>\n",
       "      <td>I</td>\n",
       "      <td>EA17</td>\n",
       "      <td>Euro area (17 countries)</td>\n",
       "      <td>NLGXQA</td>\n",
       "      <td>Cyclically-adjusted general government primary...</td>\n",
       "      <td>A</td>\n",
       "      <td>Annual</td>\n",
       "      <td>...</td>\n",
       "      <td>NaN</td>\n",
       "      <td>NaN</td>\n",
       "      <td>NaN</td>\n",
       "      <td>NaN</td>\n",
       "      <td>2</td>\n",
       "      <td>Two</td>\n",
       "      <td>NaN</td>\n",
       "      <td>NaN</td>\n",
       "      <td>C</td>\n",
       "      <td>Trend-cycle, calendar adjusted</td>\n",
       "    </tr>\n",
       "    <tr>\n",
       "      <th>4</th>\n",
       "      <td>DATAFLOW</td>\n",
       "      <td>OECD.ECO.MAD:DSD_EO@DF_EO(1.3)</td>\n",
       "      <td>Economic Outlook 117</td>\n",
       "      <td>I</td>\n",
       "      <td>EA17</td>\n",
       "      <td>Euro area (17 countries)</td>\n",
       "      <td>NLGXQA</td>\n",
       "      <td>Cyclically-adjusted general government primary...</td>\n",
       "      <td>A</td>\n",
       "      <td>Annual</td>\n",
       "      <td>...</td>\n",
       "      <td>NaN</td>\n",
       "      <td>NaN</td>\n",
       "      <td>NaN</td>\n",
       "      <td>NaN</td>\n",
       "      <td>2</td>\n",
       "      <td>Two</td>\n",
       "      <td>NaN</td>\n",
       "      <td>NaN</td>\n",
       "      <td>C</td>\n",
       "      <td>Trend-cycle, calendar adjusted</td>\n",
       "    </tr>\n",
       "  </tbody>\n",
       "</table>\n",
       "<p>5 rows × 32 columns</p>\n",
       "</div>"
      ],
      "text/plain": [
       "  STRUCTURE                    STRUCTURE_ID        STRUCTURE_NAME ACTION  \\\n",
       "0  DATAFLOW  OECD.ECO.MAD:DSD_EO@DF_EO(1.3)  Economic Outlook 117      I   \n",
       "1  DATAFLOW  OECD.ECO.MAD:DSD_EO@DF_EO(1.3)  Economic Outlook 117      I   \n",
       "2  DATAFLOW  OECD.ECO.MAD:DSD_EO@DF_EO(1.3)  Economic Outlook 117      I   \n",
       "3  DATAFLOW  OECD.ECO.MAD:DSD_EO@DF_EO(1.3)  Economic Outlook 117      I   \n",
       "4  DATAFLOW  OECD.ECO.MAD:DSD_EO@DF_EO(1.3)  Economic Outlook 117      I   \n",
       "\n",
       "  REF_AREA            Reference area MEASURE  \\\n",
       "0     EA17  Euro area (17 countries)  NLGXQA   \n",
       "1     EA17  Euro area (17 countries)  NLGXQA   \n",
       "2     EA17  Euro area (17 countries)  NLGXQA   \n",
       "3     EA17  Euro area (17 countries)  NLGXQA   \n",
       "4     EA17  Euro area (17 countries)  NLGXQA   \n",
       "\n",
       "                                             Measure FREQ  \\\n",
       "0  Cyclically-adjusted general government primary...    A   \n",
       "1  Cyclically-adjusted general government primary...    A   \n",
       "2  Cyclically-adjusted general government primary...    A   \n",
       "3  Cyclically-adjusted general government primary...    A   \n",
       "4  Cyclically-adjusted general government primary...    A   \n",
       "\n",
       "  Frequency of observation  ...  BASE_PER  Base period  METHODOLOGY  \\\n",
       "0                   Annual  ...       NaN          NaN          NaN   \n",
       "1                   Annual  ...       NaN          NaN          NaN   \n",
       "2                   Annual  ...       NaN          NaN          NaN   \n",
       "3                   Annual  ...       NaN          NaN          NaN   \n",
       "4                   Annual  ...       NaN          NaN          NaN   \n",
       "\n",
       "   Methodology  DECIMALS  Decimals PRICE_BASE Price base  ADJUSTMENT  \\\n",
       "0          NaN         2       Two        NaN        NaN           C   \n",
       "1          NaN         2       Two        NaN        NaN           C   \n",
       "2          NaN         2       Two        NaN        NaN           C   \n",
       "3          NaN         2       Two        NaN        NaN           C   \n",
       "4          NaN         2       Two        NaN        NaN           C   \n",
       "\n",
       "                       Adjustment  \n",
       "0  Trend-cycle, calendar adjusted  \n",
       "1  Trend-cycle, calendar adjusted  \n",
       "2  Trend-cycle, calendar adjusted  \n",
       "3  Trend-cycle, calendar adjusted  \n",
       "4  Trend-cycle, calendar adjusted  \n",
       "\n",
       "[5 rows x 32 columns]"
      ]
     },
     "execution_count": 3,
     "metadata": {},
     "output_type": "execute_result"
    }
   ],
   "source": [
    "df_CAPB.head()"
   ]
  },
  {
   "cell_type": "code",
   "execution_count": 4,
   "id": "8912a1c5",
   "metadata": {},
   "outputs": [
    {
     "name": "stdout",
     "output_type": "stream",
     "text": [
      "Index(['STRUCTURE', 'STRUCTURE_ID', 'STRUCTURE_NAME', 'ACTION', 'REF_AREA',\n",
      "       'Reference area', 'MEASURE', 'Measure', 'FREQ',\n",
      "       'Frequency of observation', 'TIME_PERIOD', 'Time period', 'OBS_VALUE',\n",
      "       'Observation value', 'OBS_STATUS', 'Observation status', 'UNIT_MEASURE',\n",
      "       'Unit of measure', 'UNIT_MULT', 'Unit multiplier', 'CURRENCY',\n",
      "       'Currency', 'BASE_PER', 'Base period', 'METHODOLOGY', 'Methodology',\n",
      "       'DECIMALS', 'Decimals', 'PRICE_BASE', 'Price base', 'ADJUSTMENT',\n",
      "       'Adjustment'],\n",
      "      dtype='object')\n"
     ]
    }
   ],
   "source": [
    "print(df_CAPB.columns)"
   ]
  },
  {
   "cell_type": "code",
   "execution_count": 5,
   "id": "f6e59436",
   "metadata": {},
   "outputs": [],
   "source": [
    "# dataframes in all caps based on varaiable represent the data downloaded from the source\n",
    "# dataframes without all caps represents data after cleaning \n",
    "# this approach makes it possible to retrieve the orignal data later on if needed\n",
    "\n",
    "# many of the columns are not needed for the analysis, so removing them \n",
    "df_capb = df_CAPB.drop(columns = ['STRUCTURE', 'STRUCTURE_ID', 'STRUCTURE_NAME', 'ACTION', 'REF_AREA', 'MEASURE',\n",
    "                                  'FREQ','Price base', 'ADJUSTMENT','Adjustment', 'METHODOLOGY', 'Methodology', \n",
    "                                  'DECIMALS', 'Decimals', 'PRICE_BASE', 'Price base', 'MEASURE', \n",
    "                                  'Frequency of observation', 'Observation value', 'OBS_STATUS', \n",
    "                                  'Observation status', 'UNIT_MULT', 'Unit multiplier', 'Time period', 'BASE_PER',\n",
    "                                  'Base period', 'CURRENCY','UNIT_MEASURE', 'Unit of measure','Currency'])"
   ]
  },
  {
   "cell_type": "code",
   "execution_count": 6,
   "id": "60753835",
   "metadata": {},
   "outputs": [
    {
     "data": {
      "text/html": [
       "<div>\n",
       "<style scoped>\n",
       "    .dataframe tbody tr th:only-of-type {\n",
       "        vertical-align: middle;\n",
       "    }\n",
       "\n",
       "    .dataframe tbody tr th {\n",
       "        vertical-align: top;\n",
       "    }\n",
       "\n",
       "    .dataframe thead th {\n",
       "        text-align: right;\n",
       "    }\n",
       "</style>\n",
       "<table border=\"1\" class=\"dataframe\">\n",
       "  <thead>\n",
       "    <tr style=\"text-align: right;\">\n",
       "      <th></th>\n",
       "      <th>Country</th>\n",
       "      <th>Variable</th>\n",
       "      <th>Year</th>\n",
       "      <th>Value</th>\n",
       "    </tr>\n",
       "  </thead>\n",
       "  <tbody>\n",
       "    <tr>\n",
       "      <th>0</th>\n",
       "      <td>Euro area (17 countries)</td>\n",
       "      <td>CAPB</td>\n",
       "      <td>2009</td>\n",
       "      <td>-0.021238</td>\n",
       "    </tr>\n",
       "    <tr>\n",
       "      <th>1</th>\n",
       "      <td>Euro area (17 countries)</td>\n",
       "      <td>CAPB</td>\n",
       "      <td>2008</td>\n",
       "      <td>-0.008800</td>\n",
       "    </tr>\n",
       "    <tr>\n",
       "      <th>2</th>\n",
       "      <td>Euro area (17 countries)</td>\n",
       "      <td>CAPB</td>\n",
       "      <td>1995</td>\n",
       "      <td>-0.019436</td>\n",
       "    </tr>\n",
       "    <tr>\n",
       "      <th>3</th>\n",
       "      <td>Euro area (17 countries)</td>\n",
       "      <td>CAPB</td>\n",
       "      <td>1994</td>\n",
       "      <td>0.010137</td>\n",
       "    </tr>\n",
       "    <tr>\n",
       "      <th>4</th>\n",
       "      <td>Euro area (17 countries)</td>\n",
       "      <td>CAPB</td>\n",
       "      <td>1993</td>\n",
       "      <td>0.010327</td>\n",
       "    </tr>\n",
       "  </tbody>\n",
       "</table>\n",
       "</div>"
      ],
      "text/plain": [
       "                    Country Variable  Year     Value\n",
       "0  Euro area (17 countries)     CAPB  2009 -0.021238\n",
       "1  Euro area (17 countries)     CAPB  2008 -0.008800\n",
       "2  Euro area (17 countries)     CAPB  1995 -0.019436\n",
       "3  Euro area (17 countries)     CAPB  1994  0.010137\n",
       "4  Euro area (17 countries)     CAPB  1993  0.010327"
      ]
     },
     "execution_count": 6,
     "metadata": {},
     "output_type": "execute_result"
    }
   ],
   "source": [
    "# changing the names of the columns\n",
    "df_capb.columns = ['Country', 'Variable', 'Year', 'Value']\n",
    "df_capb['Variable'] = 'CAPB'\n",
    "\n",
    "# converting value from percent to decimal\n",
    "df_capb['Value'] = df_capb['Value']/100\n",
    "\n",
    "df_capb.head()"
   ]
  },
  {
   "cell_type": "code",
   "execution_count": 7,
   "id": "db32d519",
   "metadata": {},
   "outputs": [
    {
     "data": {
      "text/plain": [
       "array(['Euro area (17 countries)', 'Lithuania', 'Denmark', 'France',\n",
       "       'Ireland', 'Netherlands', 'Italy', 'Estonia', 'Portugal', 'Norway',\n",
       "       'Luxembourg', 'Belgium', 'United Kingdom', 'Spain', 'Iceland',\n",
       "       'Switzerland', 'Latvia', 'Czechia', 'Canada', 'Greece', 'OECD',\n",
       "       'Slovenia', 'Japan', 'Romania', 'Croatia', 'Poland',\n",
       "       'United States', 'Austria', 'Sweden', 'Finland', 'Australia',\n",
       "       'Korea', 'Hungary', 'Germany', 'Israel', 'Bulgaria', 'New Zealand'],\n",
       "      dtype=object)"
      ]
     },
     "execution_count": 7,
     "metadata": {},
     "output_type": "execute_result"
    }
   ],
   "source": [
    "df_capb['Country'].unique()"
   ]
  },
  {
   "cell_type": "code",
   "execution_count": 8,
   "id": "20bfebf8",
   "metadata": {},
   "outputs": [],
   "source": [
    "# these are the countries that will be used in analysis\n",
    "countries_to_keep = ['Austria', 'Australia', 'Belgium', 'Finland', 'France', 'Germany', 'Greece', 'Ireland', \n",
    "                     'Italy', 'Japan', 'Netherlands', 'Norway', 'Spain', 'Sweden', 'Switzerland', 'United Kingdom',\n",
    "                     'United States', 'New Zealand', 'Denmark', 'Canada']"
   ]
  },
  {
   "cell_type": "code",
   "execution_count": 9,
   "id": "98619d18",
   "metadata": {},
   "outputs": [],
   "source": [
    "df_capb = df_capb[df_capb['Country'].isin(countries_to_keep)]"
   ]
  },
  {
   "cell_type": "code",
   "execution_count": 10,
   "id": "cbea71b5",
   "metadata": {},
   "outputs": [
    {
     "data": {
      "text/plain": [
       "array(['Denmark', 'France', 'Ireland', 'Netherlands', 'Italy', 'Norway',\n",
       "       'Belgium', 'United Kingdom', 'Spain', 'Switzerland', 'Canada',\n",
       "       'Greece', 'Japan', 'United States', 'Austria', 'Sweden', 'Finland',\n",
       "       'Australia', 'Germany', 'New Zealand'], dtype=object)"
      ]
     },
     "execution_count": 10,
     "metadata": {},
     "output_type": "execute_result"
    }
   ],
   "source": [
    "df_capb['Country'].unique()"
   ]
  },
  {
   "cell_type": "markdown",
   "id": "1e5f1350",
   "metadata": {},
   "source": [
    "      "
   ]
  },
  {
   "cell_type": "markdown",
   "id": "22743bc7",
   "metadata": {},
   "source": [
    "## Unemployment Rate Data"
   ]
  },
  {
   "cell_type": "markdown",
   "id": "be381768",
   "metadata": {},
   "source": [
    "Source: IMF        \n",
    "Dataset: World Economic Outlook (WEO)             \n",
    "https://data.imf.org/en/Data-Explorer?datasetUrn=IMF.RES:WEO(6.0.0)  "
   ]
  },
  {
   "cell_type": "code",
   "execution_count": 11,
   "id": "4c981995",
   "metadata": {},
   "outputs": [],
   "source": [
    "df_UNEMPLOYMENT = pd.read_csv('/Users/aadityakumaryadav/Downloads/OECD Data/IMF Unemployment Rate %.csv')"
   ]
  },
  {
   "cell_type": "code",
   "execution_count": 12,
   "id": "10edef33",
   "metadata": {},
   "outputs": [
    {
     "data": {
      "text/html": [
       "<div>\n",
       "<style scoped>\n",
       "    .dataframe tbody tr th:only-of-type {\n",
       "        vertical-align: middle;\n",
       "    }\n",
       "\n",
       "    .dataframe tbody tr th {\n",
       "        vertical-align: top;\n",
       "    }\n",
       "\n",
       "    .dataframe thead th {\n",
       "        text-align: right;\n",
       "    }\n",
       "</style>\n",
       "<table border=\"1\" class=\"dataframe\">\n",
       "  <thead>\n",
       "    <tr style=\"text-align: right;\">\n",
       "      <th></th>\n",
       "      <th>COUNTRY</th>\n",
       "      <th>INDICATOR</th>\n",
       "      <th>FREQUENCY</th>\n",
       "      <th>TIME_PERIOD</th>\n",
       "      <th>OBS_VALUE</th>\n",
       "      <th>SCALE</th>\n",
       "    </tr>\n",
       "  </thead>\n",
       "  <tbody>\n",
       "    <tr>\n",
       "      <th>0</th>\n",
       "      <td>Ireland</td>\n",
       "      <td>Unemployment rate</td>\n",
       "      <td>Annual</td>\n",
       "      <td>1985</td>\n",
       "      <td>17.7</td>\n",
       "      <td>Units</td>\n",
       "    </tr>\n",
       "    <tr>\n",
       "      <th>1</th>\n",
       "      <td>Ireland</td>\n",
       "      <td>Unemployment rate</td>\n",
       "      <td>Annual</td>\n",
       "      <td>1986</td>\n",
       "      <td>18.1</td>\n",
       "      <td>Units</td>\n",
       "    </tr>\n",
       "    <tr>\n",
       "      <th>2</th>\n",
       "      <td>Ireland</td>\n",
       "      <td>Unemployment rate</td>\n",
       "      <td>Annual</td>\n",
       "      <td>1987</td>\n",
       "      <td>18.8</td>\n",
       "      <td>Units</td>\n",
       "    </tr>\n",
       "    <tr>\n",
       "      <th>3</th>\n",
       "      <td>Ireland</td>\n",
       "      <td>Unemployment rate</td>\n",
       "      <td>Annual</td>\n",
       "      <td>1988</td>\n",
       "      <td>18.4</td>\n",
       "      <td>Units</td>\n",
       "    </tr>\n",
       "    <tr>\n",
       "      <th>4</th>\n",
       "      <td>Ireland</td>\n",
       "      <td>Unemployment rate</td>\n",
       "      <td>Annual</td>\n",
       "      <td>1989</td>\n",
       "      <td>17.9</td>\n",
       "      <td>Units</td>\n",
       "    </tr>\n",
       "  </tbody>\n",
       "</table>\n",
       "</div>"
      ],
      "text/plain": [
       "   COUNTRY          INDICATOR FREQUENCY  TIME_PERIOD  OBS_VALUE  SCALE\n",
       "0  Ireland  Unemployment rate    Annual         1985       17.7  Units\n",
       "1  Ireland  Unemployment rate    Annual         1986       18.1  Units\n",
       "2  Ireland  Unemployment rate    Annual         1987       18.8  Units\n",
       "3  Ireland  Unemployment rate    Annual         1988       18.4  Units\n",
       "4  Ireland  Unemployment rate    Annual         1989       17.9  Units"
      ]
     },
     "execution_count": 12,
     "metadata": {},
     "output_type": "execute_result"
    }
   ],
   "source": [
    "df_UNEMPLOYMENT.head()"
   ]
  },
  {
   "cell_type": "code",
   "execution_count": 13,
   "id": "819b90d1",
   "metadata": {},
   "outputs": [],
   "source": [
    "df_unemployment = df_UNEMPLOYMENT.drop(columns = ['FREQUENCY','SCALE'])"
   ]
  },
  {
   "cell_type": "code",
   "execution_count": 14,
   "id": "01de4880",
   "metadata": {},
   "outputs": [],
   "source": [
    "# Value = Unemployment Rate (%)\n",
    "df_unemployment.columns = ['Country', 'Variable', 'Year', 'Value'] \n",
    "df_unemployment['Variable'] = 'unemployment_rate' \n",
    "\n",
    "# converting value from percent to decimal\n",
    "df_unemployment['Value'] = df_unemployment['Value']/100"
   ]
  },
  {
   "cell_type": "code",
   "execution_count": 15,
   "id": "d6de1034",
   "metadata": {},
   "outputs": [
    {
     "data": {
      "text/html": [
       "<div>\n",
       "<style scoped>\n",
       "    .dataframe tbody tr th:only-of-type {\n",
       "        vertical-align: middle;\n",
       "    }\n",
       "\n",
       "    .dataframe tbody tr th {\n",
       "        vertical-align: top;\n",
       "    }\n",
       "\n",
       "    .dataframe thead th {\n",
       "        text-align: right;\n",
       "    }\n",
       "</style>\n",
       "<table border=\"1\" class=\"dataframe\">\n",
       "  <thead>\n",
       "    <tr style=\"text-align: right;\">\n",
       "      <th></th>\n",
       "      <th>Country</th>\n",
       "      <th>Variable</th>\n",
       "      <th>Year</th>\n",
       "      <th>Value</th>\n",
       "    </tr>\n",
       "  </thead>\n",
       "  <tbody>\n",
       "    <tr>\n",
       "      <th>0</th>\n",
       "      <td>Ireland</td>\n",
       "      <td>unemployment_rate</td>\n",
       "      <td>1985</td>\n",
       "      <td>0.177</td>\n",
       "    </tr>\n",
       "    <tr>\n",
       "      <th>1</th>\n",
       "      <td>Ireland</td>\n",
       "      <td>unemployment_rate</td>\n",
       "      <td>1986</td>\n",
       "      <td>0.181</td>\n",
       "    </tr>\n",
       "    <tr>\n",
       "      <th>2</th>\n",
       "      <td>Ireland</td>\n",
       "      <td>unemployment_rate</td>\n",
       "      <td>1987</td>\n",
       "      <td>0.188</td>\n",
       "    </tr>\n",
       "    <tr>\n",
       "      <th>3</th>\n",
       "      <td>Ireland</td>\n",
       "      <td>unemployment_rate</td>\n",
       "      <td>1988</td>\n",
       "      <td>0.184</td>\n",
       "    </tr>\n",
       "    <tr>\n",
       "      <th>4</th>\n",
       "      <td>Ireland</td>\n",
       "      <td>unemployment_rate</td>\n",
       "      <td>1989</td>\n",
       "      <td>0.179</td>\n",
       "    </tr>\n",
       "  </tbody>\n",
       "</table>\n",
       "</div>"
      ],
      "text/plain": [
       "   Country           Variable  Year  Value\n",
       "0  Ireland  unemployment_rate  1985  0.177\n",
       "1  Ireland  unemployment_rate  1986  0.181\n",
       "2  Ireland  unemployment_rate  1987  0.188\n",
       "3  Ireland  unemployment_rate  1988  0.184\n",
       "4  Ireland  unemployment_rate  1989  0.179"
      ]
     },
     "execution_count": 15,
     "metadata": {},
     "output_type": "execute_result"
    }
   ],
   "source": [
    "df_unemployment.head()"
   ]
  },
  {
   "cell_type": "code",
   "execution_count": 16,
   "id": "89aeb446",
   "metadata": {},
   "outputs": [
    {
     "data": {
      "text/plain": [
       "array(['Ireland', 'Australia', 'Belgium', 'Canada', 'Denmark', 'Finland',\n",
       "       'France', 'Germany', 'Greece', 'Italy', 'Japan',\n",
       "       'Korea, Republic of', 'New Zealand', 'Netherlands, The', 'Norway',\n",
       "       'Portugal', 'Spain', 'Sweden', 'Switzerland', 'United Kingdom',\n",
       "       'United States', 'Austria'], dtype=object)"
      ]
     },
     "execution_count": 16,
     "metadata": {},
     "output_type": "execute_result"
    }
   ],
   "source": [
    "df_unemployment['Country'].unique()"
   ]
  },
  {
   "cell_type": "code",
   "execution_count": 17,
   "id": "1e09fd07",
   "metadata": {},
   "outputs": [],
   "source": [
    "# replacing the names for the countries to be standard across entire dataset\n",
    "df_unemployment['Country'] = df_unemployment['Country'].replace(\n",
    "    {'Netherlands, The': 'Netherlands', 'Korea, Republic of': 'Korea'})"
   ]
  },
  {
   "cell_type": "code",
   "execution_count": 18,
   "id": "77abb6f4",
   "metadata": {},
   "outputs": [
    {
     "data": {
      "text/plain": [
       "array(['Ireland', 'Australia', 'Belgium', 'Canada', 'Denmark', 'Finland',\n",
       "       'France', 'Germany', 'Greece', 'Italy', 'Japan', 'New Zealand',\n",
       "       'Netherlands', 'Norway', 'Spain', 'Sweden', 'Switzerland',\n",
       "       'United Kingdom', 'United States', 'Austria'], dtype=object)"
      ]
     },
     "execution_count": 18,
     "metadata": {},
     "output_type": "execute_result"
    }
   ],
   "source": [
    "df_unemployment = df_unemployment[df_unemployment['Country'].isin(countries_to_keep)]\n",
    "df_unemployment['Country'].unique()"
   ]
  },
  {
   "cell_type": "markdown",
   "id": "c284179a",
   "metadata": {},
   "source": [
    "         "
   ]
  },
  {
   "cell_type": "markdown",
   "id": "ebbd21c2",
   "metadata": {},
   "source": [
    "## Real GDP Data"
   ]
  },
  {
   "cell_type": "markdown",
   "id": "f57e2dc3",
   "metadata": {},
   "source": [
    "Source: OECD   \n",
    "https://data-explorer.oecd.org/?lc=en&pg=0  "
   ]
  },
  {
   "cell_type": "code",
   "execution_count": 19,
   "id": "14dab736",
   "metadata": {},
   "outputs": [],
   "source": [
    "# annual data for real GDP (billions), reference year 2020 (9)\n",
    "df_REAL_GDP = pd.read_csv('/Users/aadityakumaryadav/Downloads/OECD Data/OECD Real GDP Annual.csv')"
   ]
  },
  {
   "cell_type": "code",
   "execution_count": 20,
   "id": "db736479",
   "metadata": {},
   "outputs": [
    {
     "data": {
      "text/html": [
       "<div>\n",
       "<style scoped>\n",
       "    .dataframe tbody tr th:only-of-type {\n",
       "        vertical-align: middle;\n",
       "    }\n",
       "\n",
       "    .dataframe tbody tr th {\n",
       "        vertical-align: top;\n",
       "    }\n",
       "\n",
       "    .dataframe thead th {\n",
       "        text-align: right;\n",
       "    }\n",
       "</style>\n",
       "<table border=\"1\" class=\"dataframe\">\n",
       "  <thead>\n",
       "    <tr style=\"text-align: right;\">\n",
       "      <th></th>\n",
       "      <th>STRUCTURE</th>\n",
       "      <th>STRUCTURE_ID</th>\n",
       "      <th>STRUCTURE_NAME</th>\n",
       "      <th>ACTION</th>\n",
       "      <th>FREQ</th>\n",
       "      <th>Frequency of observation</th>\n",
       "      <th>REF_AREA</th>\n",
       "      <th>Reference area</th>\n",
       "      <th>MEASURE</th>\n",
       "      <th>Measure</th>\n",
       "      <th>...</th>\n",
       "      <th>CONF_STATUS</th>\n",
       "      <th>Confidentiality status</th>\n",
       "      <th>DECIMALS</th>\n",
       "      <th>Decimals</th>\n",
       "      <th>OBS_STATUS</th>\n",
       "      <th>Observation status</th>\n",
       "      <th>UNIT_MULT</th>\n",
       "      <th>Unit multiplier</th>\n",
       "      <th>CURRENCY</th>\n",
       "      <th>Currency</th>\n",
       "    </tr>\n",
       "  </thead>\n",
       "  <tbody>\n",
       "    <tr>\n",
       "      <th>0</th>\n",
       "      <td>DATAFLOW</td>\n",
       "      <td>OECD.SDD.NAD:DSD_NAAG@DF_NAAG_I(1.0)</td>\n",
       "      <td>NAAG Chapter 1: GDP</td>\n",
       "      <td>I</td>\n",
       "      <td>A</td>\n",
       "      <td>Annual</td>\n",
       "      <td>BEL</td>\n",
       "      <td>Belgium</td>\n",
       "      <td>B1GQ_R</td>\n",
       "      <td>Real gross domestic product</td>\n",
       "      <td>...</td>\n",
       "      <td>F</td>\n",
       "      <td>Free (free for publication)</td>\n",
       "      <td>2</td>\n",
       "      <td>Two</td>\n",
       "      <td>A</td>\n",
       "      <td>Normal value</td>\n",
       "      <td>9</td>\n",
       "      <td>Billions</td>\n",
       "      <td>_Z</td>\n",
       "      <td>Not applicable</td>\n",
       "    </tr>\n",
       "    <tr>\n",
       "      <th>1</th>\n",
       "      <td>DATAFLOW</td>\n",
       "      <td>OECD.SDD.NAD:DSD_NAAG@DF_NAAG_I(1.0)</td>\n",
       "      <td>NAAG Chapter 1: GDP</td>\n",
       "      <td>I</td>\n",
       "      <td>A</td>\n",
       "      <td>Annual</td>\n",
       "      <td>BEL</td>\n",
       "      <td>Belgium</td>\n",
       "      <td>B1GQ_R</td>\n",
       "      <td>Real gross domestic product</td>\n",
       "      <td>...</td>\n",
       "      <td>F</td>\n",
       "      <td>Free (free for publication)</td>\n",
       "      <td>2</td>\n",
       "      <td>Two</td>\n",
       "      <td>A</td>\n",
       "      <td>Normal value</td>\n",
       "      <td>9</td>\n",
       "      <td>Billions</td>\n",
       "      <td>_Z</td>\n",
       "      <td>Not applicable</td>\n",
       "    </tr>\n",
       "    <tr>\n",
       "      <th>2</th>\n",
       "      <td>DATAFLOW</td>\n",
       "      <td>OECD.SDD.NAD:DSD_NAAG@DF_NAAG_I(1.0)</td>\n",
       "      <td>NAAG Chapter 1: GDP</td>\n",
       "      <td>I</td>\n",
       "      <td>A</td>\n",
       "      <td>Annual</td>\n",
       "      <td>BEL</td>\n",
       "      <td>Belgium</td>\n",
       "      <td>B1GQ_R</td>\n",
       "      <td>Real gross domestic product</td>\n",
       "      <td>...</td>\n",
       "      <td>F</td>\n",
       "      <td>Free (free for publication)</td>\n",
       "      <td>2</td>\n",
       "      <td>Two</td>\n",
       "      <td>A</td>\n",
       "      <td>Normal value</td>\n",
       "      <td>9</td>\n",
       "      <td>Billions</td>\n",
       "      <td>_Z</td>\n",
       "      <td>Not applicable</td>\n",
       "    </tr>\n",
       "    <tr>\n",
       "      <th>3</th>\n",
       "      <td>DATAFLOW</td>\n",
       "      <td>OECD.SDD.NAD:DSD_NAAG@DF_NAAG_I(1.0)</td>\n",
       "      <td>NAAG Chapter 1: GDP</td>\n",
       "      <td>I</td>\n",
       "      <td>A</td>\n",
       "      <td>Annual</td>\n",
       "      <td>BEL</td>\n",
       "      <td>Belgium</td>\n",
       "      <td>B1GQ_R</td>\n",
       "      <td>Real gross domestic product</td>\n",
       "      <td>...</td>\n",
       "      <td>F</td>\n",
       "      <td>Free (free for publication)</td>\n",
       "      <td>2</td>\n",
       "      <td>Two</td>\n",
       "      <td>A</td>\n",
       "      <td>Normal value</td>\n",
       "      <td>9</td>\n",
       "      <td>Billions</td>\n",
       "      <td>_Z</td>\n",
       "      <td>Not applicable</td>\n",
       "    </tr>\n",
       "    <tr>\n",
       "      <th>4</th>\n",
       "      <td>DATAFLOW</td>\n",
       "      <td>OECD.SDD.NAD:DSD_NAAG@DF_NAAG_I(1.0)</td>\n",
       "      <td>NAAG Chapter 1: GDP</td>\n",
       "      <td>I</td>\n",
       "      <td>A</td>\n",
       "      <td>Annual</td>\n",
       "      <td>FIN</td>\n",
       "      <td>Finland</td>\n",
       "      <td>B1GQ_R</td>\n",
       "      <td>Real gross domestic product</td>\n",
       "      <td>...</td>\n",
       "      <td>F</td>\n",
       "      <td>Free (free for publication)</td>\n",
       "      <td>2</td>\n",
       "      <td>Two</td>\n",
       "      <td>E</td>\n",
       "      <td>Estimated value</td>\n",
       "      <td>9</td>\n",
       "      <td>Billions</td>\n",
       "      <td>_Z</td>\n",
       "      <td>Not applicable</td>\n",
       "    </tr>\n",
       "  </tbody>\n",
       "</table>\n",
       "<p>5 rows × 64 columns</p>\n",
       "</div>"
      ],
      "text/plain": [
       "  STRUCTURE                          STRUCTURE_ID       STRUCTURE_NAME ACTION  \\\n",
       "0  DATAFLOW  OECD.SDD.NAD:DSD_NAAG@DF_NAAG_I(1.0)  NAAG Chapter 1: GDP      I   \n",
       "1  DATAFLOW  OECD.SDD.NAD:DSD_NAAG@DF_NAAG_I(1.0)  NAAG Chapter 1: GDP      I   \n",
       "2  DATAFLOW  OECD.SDD.NAD:DSD_NAAG@DF_NAAG_I(1.0)  NAAG Chapter 1: GDP      I   \n",
       "3  DATAFLOW  OECD.SDD.NAD:DSD_NAAG@DF_NAAG_I(1.0)  NAAG Chapter 1: GDP      I   \n",
       "4  DATAFLOW  OECD.SDD.NAD:DSD_NAAG@DF_NAAG_I(1.0)  NAAG Chapter 1: GDP      I   \n",
       "\n",
       "  FREQ Frequency of observation REF_AREA Reference area MEASURE  \\\n",
       "0    A                   Annual      BEL        Belgium  B1GQ_R   \n",
       "1    A                   Annual      BEL        Belgium  B1GQ_R   \n",
       "2    A                   Annual      BEL        Belgium  B1GQ_R   \n",
       "3    A                   Annual      BEL        Belgium  B1GQ_R   \n",
       "4    A                   Annual      FIN        Finland  B1GQ_R   \n",
       "\n",
       "                       Measure  ... CONF_STATUS       Confidentiality status  \\\n",
       "0  Real gross domestic product  ...           F  Free (free for publication)   \n",
       "1  Real gross domestic product  ...           F  Free (free for publication)   \n",
       "2  Real gross domestic product  ...           F  Free (free for publication)   \n",
       "3  Real gross domestic product  ...           F  Free (free for publication)   \n",
       "4  Real gross domestic product  ...           F  Free (free for publication)   \n",
       "\n",
       "  DECIMALS Decimals  OBS_STATUS  Observation status  UNIT_MULT  \\\n",
       "0        2      Two           A        Normal value          9   \n",
       "1        2      Two           A        Normal value          9   \n",
       "2        2      Two           A        Normal value          9   \n",
       "3        2      Two           A        Normal value          9   \n",
       "4        2      Two           E     Estimated value          9   \n",
       "\n",
       "   Unit multiplier CURRENCY        Currency  \n",
       "0         Billions       _Z  Not applicable  \n",
       "1         Billions       _Z  Not applicable  \n",
       "2         Billions       _Z  Not applicable  \n",
       "3         Billions       _Z  Not applicable  \n",
       "4         Billions       _Z  Not applicable  \n",
       "\n",
       "[5 rows x 64 columns]"
      ]
     },
     "execution_count": 20,
     "metadata": {},
     "output_type": "execute_result"
    }
   ],
   "source": [
    "df_REAL_GDP.head()"
   ]
  },
  {
   "cell_type": "code",
   "execution_count": 21,
   "id": "7da8e9da",
   "metadata": {},
   "outputs": [
    {
     "name": "stdout",
     "output_type": "stream",
     "text": [
      "Index(['STRUCTURE', 'STRUCTURE_ID', 'STRUCTURE_NAME', 'ACTION', 'FREQ',\n",
      "       'Frequency of observation', 'REF_AREA', 'Reference area', 'MEASURE',\n",
      "       'Measure', 'UNIT_MEASURE', 'Unit of measure', 'CHAPTER', 'Chapter',\n",
      "       'TIME_PERIOD', 'Time period', 'OBS_VALUE', 'Observation value',\n",
      "       'ADJUSTMENT', 'Adjustment', 'COUNTERPART_AREA', 'Counterpart area',\n",
      "       'SECTOR', 'Institutional sector', 'COUNTERPART_SECTOR',\n",
      "       'Counterpart institutional sector', 'CONSOLIDATION',\n",
      "       'Consolidation status', 'ACCOUNTING_ENTRY', 'Accounting entry',\n",
      "       'TRANSACTION', 'Transaction', 'INSTR_ASSET', 'Instruments and assets',\n",
      "       'MATURITY', 'Original and residual maturity', 'PRODUCT', 'Product',\n",
      "       'PENSION_FUNDTYPE', 'Pension fund type', 'CURRENCY_DENOM',\n",
      "       'Currency of denomination', 'VALUATION', 'Valuation', 'PRICE_BASE',\n",
      "       'Price base', 'TRANSFORMATION', 'Transformation', 'TABLE_IDENTIFIER',\n",
      "       'Table identifier', 'REF_YEAR_PRICE', 'Price reference year',\n",
      "       'BASE_PER', 'Base period', 'CONF_STATUS', 'Confidentiality status',\n",
      "       'DECIMALS', 'Decimals', 'OBS_STATUS', 'Observation status', 'UNIT_MULT',\n",
      "       'Unit multiplier', 'CURRENCY', 'Currency'],\n",
      "      dtype='object')\n"
     ]
    }
   ],
   "source": [
    "print(df_REAL_GDP.columns)"
   ]
  },
  {
   "cell_type": "code",
   "execution_count": 22,
   "id": "7a3a05af",
   "metadata": {},
   "outputs": [],
   "source": [
    "df_real_GDP = df_REAL_GDP.drop(columns = ['STRUCTURE', 'STRUCTURE_ID', 'STRUCTURE_NAME', 'ACTION', 'REF_AREA', \n",
    "                                          'FREQ','MEASURE','Price base', 'ADJUSTMENT','Adjustment', 'DECIMALS',\n",
    "                                          'Decimals', 'PRICE_BASE', 'Price base', 'MEASURE', \n",
    "                                          'Frequency of observation','Observation value', 'OBS_STATUS', \n",
    "                                          'Observation status', 'UNIT_MULT', 'Unit multiplier','Time period', \n",
    "                                          'BASE_PER', 'Base period', 'CURRENCY','UNIT_MEASURE', 'Unit of measure',\n",
    "                                          'Currency'])\n",
    "df_real_GDP = df_real_GDP.drop(columns = ['CHAPTER', 'Chapter','COUNTERPART_AREA', 'Counterpart area', 'SECTOR',\n",
    "                                          'Institutional sector', 'COUNTERPART_SECTOR',\n",
    "                                          'Counterpart institutional sector', 'CONSOLIDATION', \n",
    "                                          'Consolidation status', 'ACCOUNTING_ENTRY', 'Accounting entry',\n",
    "                                          'TRANSACTION', 'Transaction', 'INSTR_ASSET',  'Instruments and assets',\n",
    "                                          'MATURITY', 'Original and residual maturity', 'PRODUCT', 'Product', \n",
    "                                          'PENSION_FUNDTYPE', 'Pension fund type', 'CURRENCY_DENOM',\n",
    "                                          'Currency of denomination', 'VALUATION', 'Valuation', 'TRANSFORMATION', \n",
    "                                          'Transformation', 'TABLE_IDENTIFIER', 'Table identifier',\n",
    "                                          'REF_YEAR_PRICE', 'Price reference year', 'CONF_STATUS',\n",
    "                                          'Confidentiality status'])"
   ]
  },
  {
   "cell_type": "code",
   "execution_count": 23,
   "id": "8d184a3c",
   "metadata": {},
   "outputs": [
    {
     "data": {
      "text/html": [
       "<div>\n",
       "<style scoped>\n",
       "    .dataframe tbody tr th:only-of-type {\n",
       "        vertical-align: middle;\n",
       "    }\n",
       "\n",
       "    .dataframe tbody tr th {\n",
       "        vertical-align: top;\n",
       "    }\n",
       "\n",
       "    .dataframe thead th {\n",
       "        text-align: right;\n",
       "    }\n",
       "</style>\n",
       "<table border=\"1\" class=\"dataframe\">\n",
       "  <thead>\n",
       "    <tr style=\"text-align: right;\">\n",
       "      <th></th>\n",
       "      <th>Reference area</th>\n",
       "      <th>Measure</th>\n",
       "      <th>TIME_PERIOD</th>\n",
       "      <th>OBS_VALUE</th>\n",
       "    </tr>\n",
       "  </thead>\n",
       "  <tbody>\n",
       "    <tr>\n",
       "      <th>0</th>\n",
       "      <td>Belgium</td>\n",
       "      <td>Real gross domestic product</td>\n",
       "      <td>1998</td>\n",
       "      <td>471.442368</td>\n",
       "    </tr>\n",
       "    <tr>\n",
       "      <th>1</th>\n",
       "      <td>Belgium</td>\n",
       "      <td>Real gross domestic product</td>\n",
       "      <td>1997</td>\n",
       "      <td>462.371416</td>\n",
       "    </tr>\n",
       "    <tr>\n",
       "      <th>2</th>\n",
       "      <td>Belgium</td>\n",
       "      <td>Real gross domestic product</td>\n",
       "      <td>1996</td>\n",
       "      <td>445.471683</td>\n",
       "    </tr>\n",
       "    <tr>\n",
       "      <th>3</th>\n",
       "      <td>Belgium</td>\n",
       "      <td>Real gross domestic product</td>\n",
       "      <td>1995</td>\n",
       "      <td>439.661850</td>\n",
       "    </tr>\n",
       "    <tr>\n",
       "      <th>4</th>\n",
       "      <td>Finland</td>\n",
       "      <td>Real gross domestic product</td>\n",
       "      <td>1971</td>\n",
       "      <td>96.404562</td>\n",
       "    </tr>\n",
       "  </tbody>\n",
       "</table>\n",
       "</div>"
      ],
      "text/plain": [
       "  Reference area                      Measure  TIME_PERIOD   OBS_VALUE\n",
       "0        Belgium  Real gross domestic product         1998  471.442368\n",
       "1        Belgium  Real gross domestic product         1997  462.371416\n",
       "2        Belgium  Real gross domestic product         1996  445.471683\n",
       "3        Belgium  Real gross domestic product         1995  439.661850\n",
       "4        Finland  Real gross domestic product         1971   96.404562"
      ]
     },
     "execution_count": 23,
     "metadata": {},
     "output_type": "execute_result"
    }
   ],
   "source": [
    "df_real_GDP.head()"
   ]
  },
  {
   "cell_type": "code",
   "execution_count": 24,
   "id": "9352718d",
   "metadata": {},
   "outputs": [
    {
     "data": {
      "text/html": [
       "<div>\n",
       "<style scoped>\n",
       "    .dataframe tbody tr th:only-of-type {\n",
       "        vertical-align: middle;\n",
       "    }\n",
       "\n",
       "    .dataframe tbody tr th {\n",
       "        vertical-align: top;\n",
       "    }\n",
       "\n",
       "    .dataframe thead th {\n",
       "        text-align: right;\n",
       "    }\n",
       "</style>\n",
       "<table border=\"1\" class=\"dataframe\">\n",
       "  <thead>\n",
       "    <tr style=\"text-align: right;\">\n",
       "      <th></th>\n",
       "      <th>Country</th>\n",
       "      <th>Variable</th>\n",
       "      <th>Year</th>\n",
       "      <th>Value</th>\n",
       "    </tr>\n",
       "  </thead>\n",
       "  <tbody>\n",
       "    <tr>\n",
       "      <th>0</th>\n",
       "      <td>Belgium</td>\n",
       "      <td>real_GDP</td>\n",
       "      <td>1998</td>\n",
       "      <td>6.155797</td>\n",
       "    </tr>\n",
       "    <tr>\n",
       "      <th>1</th>\n",
       "      <td>Belgium</td>\n",
       "      <td>real_GDP</td>\n",
       "      <td>1997</td>\n",
       "      <td>6.136368</td>\n",
       "    </tr>\n",
       "    <tr>\n",
       "      <th>2</th>\n",
       "      <td>Belgium</td>\n",
       "      <td>real_GDP</td>\n",
       "      <td>1996</td>\n",
       "      <td>6.099134</td>\n",
       "    </tr>\n",
       "    <tr>\n",
       "      <th>3</th>\n",
       "      <td>Belgium</td>\n",
       "      <td>real_GDP</td>\n",
       "      <td>1995</td>\n",
       "      <td>6.086006</td>\n",
       "    </tr>\n",
       "    <tr>\n",
       "      <th>4</th>\n",
       "      <td>Finland</td>\n",
       "      <td>real_GDP</td>\n",
       "      <td>1971</td>\n",
       "      <td>4.568554</td>\n",
       "    </tr>\n",
       "  </tbody>\n",
       "</table>\n",
       "</div>"
      ],
      "text/plain": [
       "   Country  Variable  Year     Value\n",
       "0  Belgium  real_GDP  1998  6.155797\n",
       "1  Belgium  real_GDP  1997  6.136368\n",
       "2  Belgium  real_GDP  1996  6.099134\n",
       "3  Belgium  real_GDP  1995  6.086006\n",
       "4  Finland  real_GDP  1971  4.568554"
      ]
     },
     "execution_count": 24,
     "metadata": {},
     "output_type": "execute_result"
    }
   ],
   "source": [
    "# Value = Real GDP\n",
    "df_real_GDP.columns = ['Country','Variable', 'Year', 'Value']\n",
    "\n",
    "# took the log of real GDP\n",
    "df_real_GDP['Value'] = np.log(df_real_GDP['Value']) \n",
    "\n",
    "df_real_GDP['Variable'] = 'real_GDP'\n",
    "\n",
    "df_real_GDP.head()"
   ]
  },
  {
   "cell_type": "code",
   "execution_count": 25,
   "id": "aba6b312",
   "metadata": {},
   "outputs": [
    {
     "data": {
      "text/plain": [
       "array(['Belgium', 'Finland', 'Italy', 'Luxembourg', 'Mexico', 'Colombia',\n",
       "       'Israel', 'United States', 'Slovenia', 'Ireland',\n",
       "       'Slovak Republic', 'Spain', 'Iceland', 'Estonia', 'France',\n",
       "       'United Kingdom', 'Austria', 'Lithuania', 'Canada', 'Australia',\n",
       "       'Switzerland', 'Czechia', 'Norway', 'Greece', 'New Zealand',\n",
       "       'Poland', 'Hungary', 'Japan', 'Korea', 'Latvia', 'Netherlands',\n",
       "       'Germany', 'Portugal', 'Sweden', 'Denmark', 'Costa Rica',\n",
       "       'Türkiye', 'Chile'], dtype=object)"
      ]
     },
     "execution_count": 25,
     "metadata": {},
     "output_type": "execute_result"
    }
   ],
   "source": [
    "df_real_GDP['Country'].unique()"
   ]
  },
  {
   "cell_type": "code",
   "execution_count": 26,
   "id": "b24d38e3",
   "metadata": {},
   "outputs": [
    {
     "data": {
      "text/plain": [
       "array(['Belgium', 'Finland', 'Italy', 'United States', 'Ireland', 'Spain',\n",
       "       'France', 'United Kingdom', 'Austria', 'Canada', 'Australia',\n",
       "       'Switzerland', 'Norway', 'Greece', 'New Zealand', 'Japan',\n",
       "       'Netherlands', 'Germany', 'Sweden', 'Denmark'], dtype=object)"
      ]
     },
     "execution_count": 26,
     "metadata": {},
     "output_type": "execute_result"
    }
   ],
   "source": [
    "df_real_GDP = df_real_GDP[df_real_GDP['Country'].isin(countries_to_keep)]\n",
    "df_real_GDP['Country'].unique()"
   ]
  },
  {
   "cell_type": "markdown",
   "id": "7dda06de",
   "metadata": {},
   "source": [
    "  "
   ]
  },
  {
   "cell_type": "markdown",
   "id": "c43ea9a8",
   "metadata": {},
   "source": [
    "## Rates Data      \n",
    "### (Long-term rates, Short-term interest rate, Central bank policy rates)        "
   ]
  },
  {
   "cell_type": "markdown",
   "id": "c2c8945e",
   "metadata": {},
   "source": [
    "Source: OECD   \n",
    "Measures: long-term interest rate on government bonds, short-term interest rate, central bank key interest rate  \n",
    "https://data-explorer.oecd.org/?lc=en&pg=0  "
   ]
  },
  {
   "cell_type": "code",
   "execution_count": 27,
   "id": "e919a19c",
   "metadata": {},
   "outputs": [],
   "source": [
    "df_RATES = pd.read_csv('/Users/aadityakumaryadav/Downloads/OECD Data/OECD LR, SR, PR.csv')"
   ]
  },
  {
   "cell_type": "code",
   "execution_count": 28,
   "id": "95955d6a",
   "metadata": {},
   "outputs": [
    {
     "data": {
      "text/html": [
       "<div>\n",
       "<style scoped>\n",
       "    .dataframe tbody tr th:only-of-type {\n",
       "        vertical-align: middle;\n",
       "    }\n",
       "\n",
       "    .dataframe tbody tr th {\n",
       "        vertical-align: top;\n",
       "    }\n",
       "\n",
       "    .dataframe thead th {\n",
       "        text-align: right;\n",
       "    }\n",
       "</style>\n",
       "<table border=\"1\" class=\"dataframe\">\n",
       "  <thead>\n",
       "    <tr style=\"text-align: right;\">\n",
       "      <th></th>\n",
       "      <th>STRUCTURE</th>\n",
       "      <th>STRUCTURE_ID</th>\n",
       "      <th>STRUCTURE_NAME</th>\n",
       "      <th>ACTION</th>\n",
       "      <th>REF_AREA</th>\n",
       "      <th>Reference area</th>\n",
       "      <th>MEASURE</th>\n",
       "      <th>Measure</th>\n",
       "      <th>FREQ</th>\n",
       "      <th>Frequency of observation</th>\n",
       "      <th>...</th>\n",
       "      <th>BASE_PER</th>\n",
       "      <th>Base period</th>\n",
       "      <th>METHODOLOGY</th>\n",
       "      <th>Methodology</th>\n",
       "      <th>DECIMALS</th>\n",
       "      <th>Decimals</th>\n",
       "      <th>PRICE_BASE</th>\n",
       "      <th>Price base</th>\n",
       "      <th>ADJUSTMENT</th>\n",
       "      <th>Adjustment</th>\n",
       "    </tr>\n",
       "  </thead>\n",
       "  <tbody>\n",
       "    <tr>\n",
       "      <th>0</th>\n",
       "      <td>DATAFLOW</td>\n",
       "      <td>OECD.ECO.MAD:DSD_EO_116@DF_EO_116(1.0)</td>\n",
       "      <td>Economic Outlook 116</td>\n",
       "      <td>I</td>\n",
       "      <td>LVA</td>\n",
       "      <td>Latvia</td>\n",
       "      <td>IRS</td>\n",
       "      <td>Short-term interest rate</td>\n",
       "      <td>A</td>\n",
       "      <td>Annual</td>\n",
       "      <td>...</td>\n",
       "      <td>NaN</td>\n",
       "      <td>NaN</td>\n",
       "      <td>NaN</td>\n",
       "      <td>NaN</td>\n",
       "      <td>2</td>\n",
       "      <td>Two</td>\n",
       "      <td>NaN</td>\n",
       "      <td>NaN</td>\n",
       "      <td>NaN</td>\n",
       "      <td>NaN</td>\n",
       "    </tr>\n",
       "    <tr>\n",
       "      <th>1</th>\n",
       "      <td>DATAFLOW</td>\n",
       "      <td>OECD.ECO.MAD:DSD_EO_116@DF_EO_116(1.0)</td>\n",
       "      <td>Economic Outlook 116</td>\n",
       "      <td>I</td>\n",
       "      <td>LVA</td>\n",
       "      <td>Latvia</td>\n",
       "      <td>IRS</td>\n",
       "      <td>Short-term interest rate</td>\n",
       "      <td>A</td>\n",
       "      <td>Annual</td>\n",
       "      <td>...</td>\n",
       "      <td>NaN</td>\n",
       "      <td>NaN</td>\n",
       "      <td>NaN</td>\n",
       "      <td>NaN</td>\n",
       "      <td>2</td>\n",
       "      <td>Two</td>\n",
       "      <td>NaN</td>\n",
       "      <td>NaN</td>\n",
       "      <td>NaN</td>\n",
       "      <td>NaN</td>\n",
       "    </tr>\n",
       "    <tr>\n",
       "      <th>2</th>\n",
       "      <td>DATAFLOW</td>\n",
       "      <td>OECD.ECO.MAD:DSD_EO_116@DF_EO_116(1.0)</td>\n",
       "      <td>Economic Outlook 116</td>\n",
       "      <td>I</td>\n",
       "      <td>LVA</td>\n",
       "      <td>Latvia</td>\n",
       "      <td>IRS</td>\n",
       "      <td>Short-term interest rate</td>\n",
       "      <td>A</td>\n",
       "      <td>Annual</td>\n",
       "      <td>...</td>\n",
       "      <td>NaN</td>\n",
       "      <td>NaN</td>\n",
       "      <td>NaN</td>\n",
       "      <td>NaN</td>\n",
       "      <td>2</td>\n",
       "      <td>Two</td>\n",
       "      <td>NaN</td>\n",
       "      <td>NaN</td>\n",
       "      <td>NaN</td>\n",
       "      <td>NaN</td>\n",
       "    </tr>\n",
       "    <tr>\n",
       "      <th>3</th>\n",
       "      <td>DATAFLOW</td>\n",
       "      <td>OECD.ECO.MAD:DSD_EO_116@DF_EO_116(1.0)</td>\n",
       "      <td>Economic Outlook 116</td>\n",
       "      <td>I</td>\n",
       "      <td>LVA</td>\n",
       "      <td>Latvia</td>\n",
       "      <td>IRS</td>\n",
       "      <td>Short-term interest rate</td>\n",
       "      <td>A</td>\n",
       "      <td>Annual</td>\n",
       "      <td>...</td>\n",
       "      <td>NaN</td>\n",
       "      <td>NaN</td>\n",
       "      <td>NaN</td>\n",
       "      <td>NaN</td>\n",
       "      <td>2</td>\n",
       "      <td>Two</td>\n",
       "      <td>NaN</td>\n",
       "      <td>NaN</td>\n",
       "      <td>NaN</td>\n",
       "      <td>NaN</td>\n",
       "    </tr>\n",
       "    <tr>\n",
       "      <th>4</th>\n",
       "      <td>DATAFLOW</td>\n",
       "      <td>OECD.ECO.MAD:DSD_EO_116@DF_EO_116(1.0)</td>\n",
       "      <td>Economic Outlook 116</td>\n",
       "      <td>I</td>\n",
       "      <td>LVA</td>\n",
       "      <td>Latvia</td>\n",
       "      <td>IRS</td>\n",
       "      <td>Short-term interest rate</td>\n",
       "      <td>A</td>\n",
       "      <td>Annual</td>\n",
       "      <td>...</td>\n",
       "      <td>NaN</td>\n",
       "      <td>NaN</td>\n",
       "      <td>NaN</td>\n",
       "      <td>NaN</td>\n",
       "      <td>2</td>\n",
       "      <td>Two</td>\n",
       "      <td>NaN</td>\n",
       "      <td>NaN</td>\n",
       "      <td>NaN</td>\n",
       "      <td>NaN</td>\n",
       "    </tr>\n",
       "  </tbody>\n",
       "</table>\n",
       "<p>5 rows × 32 columns</p>\n",
       "</div>"
      ],
      "text/plain": [
       "  STRUCTURE                            STRUCTURE_ID        STRUCTURE_NAME  \\\n",
       "0  DATAFLOW  OECD.ECO.MAD:DSD_EO_116@DF_EO_116(1.0)  Economic Outlook 116   \n",
       "1  DATAFLOW  OECD.ECO.MAD:DSD_EO_116@DF_EO_116(1.0)  Economic Outlook 116   \n",
       "2  DATAFLOW  OECD.ECO.MAD:DSD_EO_116@DF_EO_116(1.0)  Economic Outlook 116   \n",
       "3  DATAFLOW  OECD.ECO.MAD:DSD_EO_116@DF_EO_116(1.0)  Economic Outlook 116   \n",
       "4  DATAFLOW  OECD.ECO.MAD:DSD_EO_116@DF_EO_116(1.0)  Economic Outlook 116   \n",
       "\n",
       "  ACTION REF_AREA Reference area MEASURE                   Measure FREQ  \\\n",
       "0      I      LVA         Latvia     IRS  Short-term interest rate    A   \n",
       "1      I      LVA         Latvia     IRS  Short-term interest rate    A   \n",
       "2      I      LVA         Latvia     IRS  Short-term interest rate    A   \n",
       "3      I      LVA         Latvia     IRS  Short-term interest rate    A   \n",
       "4      I      LVA         Latvia     IRS  Short-term interest rate    A   \n",
       "\n",
       "  Frequency of observation  ...  BASE_PER  Base period  METHODOLOGY  \\\n",
       "0                   Annual  ...       NaN          NaN          NaN   \n",
       "1                   Annual  ...       NaN          NaN          NaN   \n",
       "2                   Annual  ...       NaN          NaN          NaN   \n",
       "3                   Annual  ...       NaN          NaN          NaN   \n",
       "4                   Annual  ...       NaN          NaN          NaN   \n",
       "\n",
       "   Methodology  DECIMALS  Decimals PRICE_BASE Price base  ADJUSTMENT  \\\n",
       "0          NaN         2       Two        NaN        NaN         NaN   \n",
       "1          NaN         2       Two        NaN        NaN         NaN   \n",
       "2          NaN         2       Two        NaN        NaN         NaN   \n",
       "3          NaN         2       Two        NaN        NaN         NaN   \n",
       "4          NaN         2       Two        NaN        NaN         NaN   \n",
       "\n",
       "  Adjustment  \n",
       "0        NaN  \n",
       "1        NaN  \n",
       "2        NaN  \n",
       "3        NaN  \n",
       "4        NaN  \n",
       "\n",
       "[5 rows x 32 columns]"
      ]
     },
     "execution_count": 28,
     "metadata": {},
     "output_type": "execute_result"
    }
   ],
   "source": [
    "df_RATES.head()"
   ]
  },
  {
   "cell_type": "code",
   "execution_count": 29,
   "id": "5b92b2fd",
   "metadata": {},
   "outputs": [],
   "source": [
    "df_rates = df_RATES.drop(columns = ['STRUCTURE', 'STRUCTURE_ID', 'STRUCTURE_NAME', 'ACTION', 'REF_AREA', \n",
    "                                    'MEASURE', 'FREQ', 'Unit of measure', 'UNIT_MULT', 'Unit multiplier', \n",
    "                                    'CURRENCY', 'Currency', 'BASE_PER', 'Base period', 'METHODOLOGY', \n",
    "                                    'Methodology', 'DECIMALS', 'Decimals', 'PRICE_BASE', 'Price base', \n",
    "                                    'ADJUSTMENT','Adjustment'])\n",
    "df_rates = df_rates.drop(columns = ['Frequency of observation', 'Time period', 'Observation value', 'OBS_STATUS', \n",
    "                                    'Observation status', 'UNIT_MEASURE'])"
   ]
  },
  {
   "cell_type": "code",
   "execution_count": 30,
   "id": "0f820bc0",
   "metadata": {},
   "outputs": [
    {
     "data": {
      "text/html": [
       "<div>\n",
       "<style scoped>\n",
       "    .dataframe tbody tr th:only-of-type {\n",
       "        vertical-align: middle;\n",
       "    }\n",
       "\n",
       "    .dataframe tbody tr th {\n",
       "        vertical-align: top;\n",
       "    }\n",
       "\n",
       "    .dataframe thead th {\n",
       "        text-align: right;\n",
       "    }\n",
       "</style>\n",
       "<table border=\"1\" class=\"dataframe\">\n",
       "  <thead>\n",
       "    <tr style=\"text-align: right;\">\n",
       "      <th></th>\n",
       "      <th>Country</th>\n",
       "      <th>Variable</th>\n",
       "      <th>Year</th>\n",
       "      <th>Value</th>\n",
       "    </tr>\n",
       "  </thead>\n",
       "  <tbody>\n",
       "    <tr>\n",
       "      <th>0</th>\n",
       "      <td>Latvia</td>\n",
       "      <td>short_rates</td>\n",
       "      <td>2012</td>\n",
       "      <td>0.008883</td>\n",
       "    </tr>\n",
       "    <tr>\n",
       "      <th>1</th>\n",
       "      <td>Latvia</td>\n",
       "      <td>short_rates</td>\n",
       "      <td>2011</td>\n",
       "      <td>0.009617</td>\n",
       "    </tr>\n",
       "    <tr>\n",
       "      <th>2</th>\n",
       "      <td>Latvia</td>\n",
       "      <td>short_rates</td>\n",
       "      <td>1998</td>\n",
       "      <td>0.083883</td>\n",
       "    </tr>\n",
       "    <tr>\n",
       "      <th>3</th>\n",
       "      <td>Latvia</td>\n",
       "      <td>short_rates</td>\n",
       "      <td>1997</td>\n",
       "      <td>0.049567</td>\n",
       "    </tr>\n",
       "    <tr>\n",
       "      <th>4</th>\n",
       "      <td>Latvia</td>\n",
       "      <td>short_rates</td>\n",
       "      <td>1996</td>\n",
       "      <td>0.050883</td>\n",
       "    </tr>\n",
       "  </tbody>\n",
       "</table>\n",
       "</div>"
      ],
      "text/plain": [
       "  Country     Variable  Year     Value\n",
       "0  Latvia  short_rates  2012  0.008883\n",
       "1  Latvia  short_rates  2011  0.009617\n",
       "2  Latvia  short_rates  1998  0.083883\n",
       "3  Latvia  short_rates  1997  0.049567\n",
       "4  Latvia  short_rates  1996  0.050883"
      ]
     },
     "execution_count": 30,
     "metadata": {},
     "output_type": "execute_result"
    }
   ],
   "source": [
    "# Value = Rate (%)\n",
    "df_rates.columns = ['Country', 'Variable', 'Year', 'Value']\n",
    "\n",
    "# https://www.youtube.com/watch?v=DCDe29sIKcE\n",
    "df_rates['Variable'] = df_rates['Variable'].map({\n",
    "    'Long-term interest rate on government bonds': 'long_rates',\n",
    "    'Central bank key interest rate': 'policy_rates', \n",
    "    'Short-term interest rate': 'short_rates'})\n",
    "\n",
    "\n",
    "df_rates['Value'] = df_rates['Value']/100\n",
    "\n",
    "df_rates.head()"
   ]
  },
  {
   "cell_type": "code",
   "execution_count": 31,
   "id": "b2fe0066",
   "metadata": {},
   "outputs": [
    {
     "name": "stdout",
     "output_type": "stream",
     "text": [
      "['short_rates' 'long_rates' 'policy_rates']\n"
     ]
    }
   ],
   "source": [
    "print(df_rates['Variable'].unique())"
   ]
  },
  {
   "cell_type": "code",
   "execution_count": 32,
   "id": "3b663a38",
   "metadata": {},
   "outputs": [
    {
     "data": {
      "text/plain": [
       "array(['Latvia', 'Germany', 'France', 'Netherlands', 'Australia', 'Korea',\n",
       "       'Austria', 'Switzerland', 'Belgium', 'Hungary', 'Canada',\n",
       "       'Portugal', 'Denmark', 'Estonia', 'Italy', 'Slovak Republic',\n",
       "       'Iceland', 'Mexico', 'New Zealand', 'Finland', 'Costa Rica',\n",
       "       'Ireland', 'Sweden', 'United States', 'Poland', 'Slovenia',\n",
       "       'Luxembourg', 'Norway', 'Spain', 'Lithuania', 'Greece', 'Czechia',\n",
       "       'Japan', 'United Kingdom'], dtype=object)"
      ]
     },
     "execution_count": 32,
     "metadata": {},
     "output_type": "execute_result"
    }
   ],
   "source": [
    "df_rates['Country'].unique()"
   ]
  },
  {
   "cell_type": "code",
   "execution_count": 33,
   "id": "5406cc99",
   "metadata": {},
   "outputs": [
    {
     "data": {
      "text/plain": [
       "array(['Germany', 'France', 'Netherlands', 'Australia', 'Austria',\n",
       "       'Switzerland', 'Belgium', 'Canada', 'Denmark', 'Italy',\n",
       "       'New Zealand', 'Finland', 'Ireland', 'Sweden', 'United States',\n",
       "       'Norway', 'Spain', 'Greece', 'Japan', 'United Kingdom'],\n",
       "      dtype=object)"
      ]
     },
     "execution_count": 33,
     "metadata": {},
     "output_type": "execute_result"
    }
   ],
   "source": [
    "df_rates = df_rates[df_rates['Country'].isin(countries_to_keep)]\n",
    "df_rates['Country'].unique()"
   ]
  },
  {
   "cell_type": "markdown",
   "id": "d8832d32",
   "metadata": {},
   "source": [
    "   "
   ]
  },
  {
   "cell_type": "markdown",
   "id": "82685106",
   "metadata": {},
   "source": [
    "## Debt-GDP Data       "
   ]
  },
  {
   "cell_type": "markdown",
   "id": "f9cde6fa",
   "metadata": {},
   "source": [
    "Source: IMF    \n",
    "Dataset: Fiscal Monitor          \n",
    "https://data.imf.org/en/Data-Explorer?datasetUrn=IMF.RES:WEO(6.0.0)  "
   ]
  },
  {
   "cell_type": "code",
   "execution_count": 34,
   "id": "5799b256",
   "metadata": {},
   "outputs": [],
   "source": [
    "df_DEBT = pd.read_csv('/Users/aadityakumaryadav/Downloads/OECD Data/IMF Debt-GDP.csv')"
   ]
  },
  {
   "cell_type": "code",
   "execution_count": 35,
   "id": "58019f11",
   "metadata": {},
   "outputs": [
    {
     "data": {
      "text/html": [
       "<div>\n",
       "<style scoped>\n",
       "    .dataframe tbody tr th:only-of-type {\n",
       "        vertical-align: middle;\n",
       "    }\n",
       "\n",
       "    .dataframe tbody tr th {\n",
       "        vertical-align: top;\n",
       "    }\n",
       "\n",
       "    .dataframe thead th {\n",
       "        text-align: right;\n",
       "    }\n",
       "</style>\n",
       "<table border=\"1\" class=\"dataframe\">\n",
       "  <thead>\n",
       "    <tr style=\"text-align: right;\">\n",
       "      <th></th>\n",
       "      <th>COUNTRY</th>\n",
       "      <th>INDICATOR</th>\n",
       "      <th>FREQUENCY</th>\n",
       "      <th>TIME_PERIOD</th>\n",
       "      <th>OBS_VALUE</th>\n",
       "      <th>SCALE</th>\n",
       "    </tr>\n",
       "  </thead>\n",
       "  <tbody>\n",
       "    <tr>\n",
       "      <th>0</th>\n",
       "      <td>Sweden</td>\n",
       "      <td>Gross debt, General government, Percent of GDP</td>\n",
       "      <td>Annual</td>\n",
       "      <td>1993</td>\n",
       "      <td>66.096</td>\n",
       "      <td>Units</td>\n",
       "    </tr>\n",
       "    <tr>\n",
       "      <th>1</th>\n",
       "      <td>Sweden</td>\n",
       "      <td>Gross debt, General government, Percent of GDP</td>\n",
       "      <td>Annual</td>\n",
       "      <td>1994</td>\n",
       "      <td>68.551</td>\n",
       "      <td>Units</td>\n",
       "    </tr>\n",
       "    <tr>\n",
       "      <th>2</th>\n",
       "      <td>Sweden</td>\n",
       "      <td>Gross debt, General government, Percent of GDP</td>\n",
       "      <td>Annual</td>\n",
       "      <td>1995</td>\n",
       "      <td>68.693</td>\n",
       "      <td>Units</td>\n",
       "    </tr>\n",
       "    <tr>\n",
       "      <th>3</th>\n",
       "      <td>Sweden</td>\n",
       "      <td>Gross debt, General government, Percent of GDP</td>\n",
       "      <td>Annual</td>\n",
       "      <td>1996</td>\n",
       "      <td>68.934</td>\n",
       "      <td>Units</td>\n",
       "    </tr>\n",
       "    <tr>\n",
       "      <th>4</th>\n",
       "      <td>Sweden</td>\n",
       "      <td>Gross debt, General government, Percent of GDP</td>\n",
       "      <td>Annual</td>\n",
       "      <td>1997</td>\n",
       "      <td>67.701</td>\n",
       "      <td>Units</td>\n",
       "    </tr>\n",
       "  </tbody>\n",
       "</table>\n",
       "</div>"
      ],
      "text/plain": [
       "  COUNTRY                                       INDICATOR FREQUENCY  \\\n",
       "0  Sweden  Gross debt, General government, Percent of GDP    Annual   \n",
       "1  Sweden  Gross debt, General government, Percent of GDP    Annual   \n",
       "2  Sweden  Gross debt, General government, Percent of GDP    Annual   \n",
       "3  Sweden  Gross debt, General government, Percent of GDP    Annual   \n",
       "4  Sweden  Gross debt, General government, Percent of GDP    Annual   \n",
       "\n",
       "   TIME_PERIOD  OBS_VALUE  SCALE  \n",
       "0         1993     66.096  Units  \n",
       "1         1994     68.551  Units  \n",
       "2         1995     68.693  Units  \n",
       "3         1996     68.934  Units  \n",
       "4         1997     67.701  Units  "
      ]
     },
     "execution_count": 35,
     "metadata": {},
     "output_type": "execute_result"
    }
   ],
   "source": [
    "df_DEBT.head()"
   ]
  },
  {
   "cell_type": "code",
   "execution_count": 36,
   "id": "35423e76",
   "metadata": {},
   "outputs": [],
   "source": [
    "df_debt = df_DEBT.drop(columns = ['FREQUENCY','SCALE'])\n",
    "\n",
    "# Value = percent of GDP\n",
    "df_debt.columns = ['Country', 'Variable', 'Year', 'Value']\n",
    "df_debt['Variable'] = 'debt-GDP'\n",
    "\n",
    "df_debt['Value'] = df_debt['Value']/100\n"
   ]
  },
  {
   "cell_type": "code",
   "execution_count": 37,
   "id": "4792ff5d",
   "metadata": {},
   "outputs": [
    {
     "data": {
      "text/html": [
       "<div>\n",
       "<style scoped>\n",
       "    .dataframe tbody tr th:only-of-type {\n",
       "        vertical-align: middle;\n",
       "    }\n",
       "\n",
       "    .dataframe tbody tr th {\n",
       "        vertical-align: top;\n",
       "    }\n",
       "\n",
       "    .dataframe thead th {\n",
       "        text-align: right;\n",
       "    }\n",
       "</style>\n",
       "<table border=\"1\" class=\"dataframe\">\n",
       "  <thead>\n",
       "    <tr style=\"text-align: right;\">\n",
       "      <th></th>\n",
       "      <th>Country</th>\n",
       "      <th>Variable</th>\n",
       "      <th>Year</th>\n",
       "      <th>Value</th>\n",
       "    </tr>\n",
       "  </thead>\n",
       "  <tbody>\n",
       "    <tr>\n",
       "      <th>0</th>\n",
       "      <td>Sweden</td>\n",
       "      <td>debt-GDP</td>\n",
       "      <td>1993</td>\n",
       "      <td>0.66096</td>\n",
       "    </tr>\n",
       "    <tr>\n",
       "      <th>1</th>\n",
       "      <td>Sweden</td>\n",
       "      <td>debt-GDP</td>\n",
       "      <td>1994</td>\n",
       "      <td>0.68551</td>\n",
       "    </tr>\n",
       "    <tr>\n",
       "      <th>2</th>\n",
       "      <td>Sweden</td>\n",
       "      <td>debt-GDP</td>\n",
       "      <td>1995</td>\n",
       "      <td>0.68693</td>\n",
       "    </tr>\n",
       "    <tr>\n",
       "      <th>3</th>\n",
       "      <td>Sweden</td>\n",
       "      <td>debt-GDP</td>\n",
       "      <td>1996</td>\n",
       "      <td>0.68934</td>\n",
       "    </tr>\n",
       "    <tr>\n",
       "      <th>4</th>\n",
       "      <td>Sweden</td>\n",
       "      <td>debt-GDP</td>\n",
       "      <td>1997</td>\n",
       "      <td>0.67701</td>\n",
       "    </tr>\n",
       "  </tbody>\n",
       "</table>\n",
       "</div>"
      ],
      "text/plain": [
       "  Country  Variable  Year    Value\n",
       "0  Sweden  debt-GDP  1993  0.66096\n",
       "1  Sweden  debt-GDP  1994  0.68551\n",
       "2  Sweden  debt-GDP  1995  0.68693\n",
       "3  Sweden  debt-GDP  1996  0.68934\n",
       "4  Sweden  debt-GDP  1997  0.67701"
      ]
     },
     "execution_count": 37,
     "metadata": {},
     "output_type": "execute_result"
    }
   ],
   "source": [
    "df_debt.head()"
   ]
  },
  {
   "cell_type": "code",
   "execution_count": 38,
   "id": "6aa979e4",
   "metadata": {},
   "outputs": [
    {
     "data": {
      "text/plain": [
       "array(['Sweden', 'Australia', 'Austria', 'United States', 'Germany',\n",
       "       'Iceland', 'Italy', 'Ireland', 'Latvia, Republic of',\n",
       "       'Lithuania, Republic of', 'Luxembourg', 'Mexico', 'New Zealand',\n",
       "       'Switzerland', 'Belgium', 'Finland', 'France', 'Greece', 'Japan',\n",
       "       'Netherlands, The', 'Norway', 'Spain', 'United Kingdom', 'Hungary',\n",
       "       'Portugal', 'Korea, Republic of', 'Canada', 'Denmark'],\n",
       "      dtype=object)"
      ]
     },
     "execution_count": 38,
     "metadata": {},
     "output_type": "execute_result"
    }
   ],
   "source": [
    "df_debt['Country'].unique()"
   ]
  },
  {
   "cell_type": "code",
   "execution_count": 39,
   "id": "c2bae237",
   "metadata": {},
   "outputs": [],
   "source": [
    "df_debt['Country'] = df_debt['Country'].replace(\n",
    "    {'Netherlands, The': 'Netherlands', 'Korea, Republic of': 'Korea'})"
   ]
  },
  {
   "cell_type": "code",
   "execution_count": 40,
   "id": "2f7a06a6",
   "metadata": {},
   "outputs": [
    {
     "data": {
      "text/plain": [
       "array(['Sweden', 'Australia', 'Austria', 'United States', 'Germany',\n",
       "       'Italy', 'Ireland', 'New Zealand', 'Switzerland', 'Belgium',\n",
       "       'Finland', 'France', 'Greece', 'Japan', 'Netherlands', 'Norway',\n",
       "       'Spain', 'United Kingdom', 'Canada', 'Denmark'], dtype=object)"
      ]
     },
     "execution_count": 40,
     "metadata": {},
     "output_type": "execute_result"
    }
   ],
   "source": [
    "df_debt = df_debt[df_debt['Country'].isin(countries_to_keep)]\n",
    "df_debt['Country'].unique()"
   ]
  },
  {
   "cell_type": "markdown",
   "id": "40f30fa9",
   "metadata": {},
   "source": [
    "    "
   ]
  },
  {
   "cell_type": "markdown",
   "id": "46ca3283",
   "metadata": {},
   "source": [
    "## Real Broad Effective Exchange Rate     "
   ]
  },
  {
   "cell_type": "markdown",
   "id": "5299f4d6",
   "metadata": {},
   "source": [
    "Source: Bank for International Settlements   \n",
    "Units:  Index 2020 = 100, Not Seasonally Adjusted   \n",
    "Frequency:  Monthly  \n",
    "https://data.bis.org/topics/EER/data   "
   ]
  },
  {
   "cell_type": "code",
   "execution_count": 41,
   "id": "e0ace239",
   "metadata": {},
   "outputs": [],
   "source": [
    "df_RBEER_1 = pd.read_csv('/Users/aadityakumaryadav/Downloads/OECD Data/BIS RBEER Broad 1.csv')\n",
    "df_RBEER_2 = pd.read_csv('/Users/aadityakumaryadav/Downloads/OECD Data/BIS RBEER Broad 2.csv')"
   ]
  },
  {
   "cell_type": "code",
   "execution_count": 42,
   "id": "a24f1cde",
   "metadata": {},
   "outputs": [],
   "source": [
    "countries_RBEER = [df_RBEER_1, df_RBEER_2]\n",
    "\n",
    "# merging the different data frames \n",
    "# https://pandas.pydata.org/docs/user_guide/merging.html\n",
    "df_RBEER = pd.concat(countries_RBEER)"
   ]
  },
  {
   "cell_type": "code",
   "execution_count": 43,
   "id": "ee393214",
   "metadata": {},
   "outputs": [
    {
     "data": {
      "text/html": [
       "<div>\n",
       "<style scoped>\n",
       "    .dataframe tbody tr th:only-of-type {\n",
       "        vertical-align: middle;\n",
       "    }\n",
       "\n",
       "    .dataframe tbody tr th {\n",
       "        vertical-align: top;\n",
       "    }\n",
       "\n",
       "    .dataframe thead th {\n",
       "        text-align: right;\n",
       "    }\n",
       "</style>\n",
       "<table border=\"1\" class=\"dataframe\">\n",
       "  <thead>\n",
       "    <tr style=\"text-align: right;\">\n",
       "      <th></th>\n",
       "      <th>DATAFLOW_ID:Dataflow ID</th>\n",
       "      <th>KEY:Timeseries Key</th>\n",
       "      <th>FREQ:Frequency</th>\n",
       "      <th>EER_TYPE:Type</th>\n",
       "      <th>EER_BASKET:Basket</th>\n",
       "      <th>REF_AREA:Reference area</th>\n",
       "      <th>Unit</th>\n",
       "      <th>Unit multiplier</th>\n",
       "      <th>TIME_PERIOD:Period</th>\n",
       "      <th>OBS_CONF:Confidentiality</th>\n",
       "      <th>OBS_PRE_BREAK:Pre-break value</th>\n",
       "      <th>OBS_STATUS:Status</th>\n",
       "      <th>OBS_VALUE:Value</th>\n",
       "    </tr>\n",
       "  </thead>\n",
       "  <tbody>\n",
       "    <tr>\n",
       "      <th>0</th>\n",
       "      <td>BIS,WS_EER,1.0</td>\n",
       "      <td>M.R.B.AT</td>\n",
       "      <td>M:Monthly</td>\n",
       "      <td>R:Real</td>\n",
       "      <td>B:Broad (64 economies)</td>\n",
       "      <td>AT:Austria</td>\n",
       "      <td>Index, 2020 = 100</td>\n",
       "      <td>NaN</td>\n",
       "      <td>1994-01-31</td>\n",
       "      <td>F:Free</td>\n",
       "      <td>NaN</td>\n",
       "      <td>A:Normal value</td>\n",
       "      <td>103.02</td>\n",
       "    </tr>\n",
       "    <tr>\n",
       "      <th>1</th>\n",
       "      <td>BIS,WS_EER,1.0</td>\n",
       "      <td>M.R.B.AT</td>\n",
       "      <td>M:Monthly</td>\n",
       "      <td>R:Real</td>\n",
       "      <td>B:Broad (64 economies)</td>\n",
       "      <td>AT:Austria</td>\n",
       "      <td>Index, 2020 = 100</td>\n",
       "      <td>NaN</td>\n",
       "      <td>1994-02-28</td>\n",
       "      <td>F:Free</td>\n",
       "      <td>NaN</td>\n",
       "      <td>A:Normal value</td>\n",
       "      <td>102.50</td>\n",
       "    </tr>\n",
       "    <tr>\n",
       "      <th>2</th>\n",
       "      <td>BIS,WS_EER,1.0</td>\n",
       "      <td>M.R.B.AT</td>\n",
       "      <td>M:Monthly</td>\n",
       "      <td>R:Real</td>\n",
       "      <td>B:Broad (64 economies)</td>\n",
       "      <td>AT:Austria</td>\n",
       "      <td>Index, 2020 = 100</td>\n",
       "      <td>NaN</td>\n",
       "      <td>1994-03-31</td>\n",
       "      <td>F:Free</td>\n",
       "      <td>NaN</td>\n",
       "      <td>A:Normal value</td>\n",
       "      <td>103.43</td>\n",
       "    </tr>\n",
       "    <tr>\n",
       "      <th>3</th>\n",
       "      <td>BIS,WS_EER,1.0</td>\n",
       "      <td>M.R.B.AT</td>\n",
       "      <td>M:Monthly</td>\n",
       "      <td>R:Real</td>\n",
       "      <td>B:Broad (64 economies)</td>\n",
       "      <td>AT:Austria</td>\n",
       "      <td>Index, 2020 = 100</td>\n",
       "      <td>NaN</td>\n",
       "      <td>1994-04-30</td>\n",
       "      <td>F:Free</td>\n",
       "      <td>NaN</td>\n",
       "      <td>A:Normal value</td>\n",
       "      <td>102.68</td>\n",
       "    </tr>\n",
       "    <tr>\n",
       "      <th>4</th>\n",
       "      <td>BIS,WS_EER,1.0</td>\n",
       "      <td>M.R.B.AT</td>\n",
       "      <td>M:Monthly</td>\n",
       "      <td>R:Real</td>\n",
       "      <td>B:Broad (64 economies)</td>\n",
       "      <td>AT:Austria</td>\n",
       "      <td>Index, 2020 = 100</td>\n",
       "      <td>NaN</td>\n",
       "      <td>1994-05-31</td>\n",
       "      <td>F:Free</td>\n",
       "      <td>NaN</td>\n",
       "      <td>A:Normal value</td>\n",
       "      <td>103.33</td>\n",
       "    </tr>\n",
       "  </tbody>\n",
       "</table>\n",
       "</div>"
      ],
      "text/plain": [
       "  DATAFLOW_ID:Dataflow ID KEY:Timeseries Key FREQ:Frequency EER_TYPE:Type  \\\n",
       "0          BIS,WS_EER,1.0           M.R.B.AT      M:Monthly        R:Real   \n",
       "1          BIS,WS_EER,1.0           M.R.B.AT      M:Monthly        R:Real   \n",
       "2          BIS,WS_EER,1.0           M.R.B.AT      M:Monthly        R:Real   \n",
       "3          BIS,WS_EER,1.0           M.R.B.AT      M:Monthly        R:Real   \n",
       "4          BIS,WS_EER,1.0           M.R.B.AT      M:Monthly        R:Real   \n",
       "\n",
       "        EER_BASKET:Basket REF_AREA:Reference area               Unit  \\\n",
       "0  B:Broad (64 economies)              AT:Austria  Index, 2020 = 100   \n",
       "1  B:Broad (64 economies)              AT:Austria  Index, 2020 = 100   \n",
       "2  B:Broad (64 economies)              AT:Austria  Index, 2020 = 100   \n",
       "3  B:Broad (64 economies)              AT:Austria  Index, 2020 = 100   \n",
       "4  B:Broad (64 economies)              AT:Austria  Index, 2020 = 100   \n",
       "\n",
       "   Unit multiplier TIME_PERIOD:Period OBS_CONF:Confidentiality  \\\n",
       "0              NaN         1994-01-31                   F:Free   \n",
       "1              NaN         1994-02-28                   F:Free   \n",
       "2              NaN         1994-03-31                   F:Free   \n",
       "3              NaN         1994-04-30                   F:Free   \n",
       "4              NaN         1994-05-31                   F:Free   \n",
       "\n",
       "   OBS_PRE_BREAK:Pre-break value OBS_STATUS:Status  OBS_VALUE:Value  \n",
       "0                            NaN    A:Normal value           103.02  \n",
       "1                            NaN    A:Normal value           102.50  \n",
       "2                            NaN    A:Normal value           103.43  \n",
       "3                            NaN    A:Normal value           102.68  \n",
       "4                            NaN    A:Normal value           103.33  "
      ]
     },
     "execution_count": 43,
     "metadata": {},
     "output_type": "execute_result"
    }
   ],
   "source": [
    "df_RBEER.head()"
   ]
  },
  {
   "cell_type": "code",
   "execution_count": 44,
   "id": "982da1a5",
   "metadata": {},
   "outputs": [
    {
     "name": "stdout",
     "output_type": "stream",
     "text": [
      "Index(['DATAFLOW_ID:Dataflow ID', 'KEY:Timeseries Key', 'FREQ:Frequency',\n",
      "       'EER_TYPE:Type', 'EER_BASKET:Basket', 'REF_AREA:Reference area', 'Unit',\n",
      "       'Unit multiplier', 'TIME_PERIOD:Period', 'OBS_CONF:Confidentiality',\n",
      "       'OBS_PRE_BREAK:Pre-break value', 'OBS_STATUS:Status',\n",
      "       'OBS_VALUE:Value'],\n",
      "      dtype='object')\n"
     ]
    }
   ],
   "source": [
    "print(df_RBEER.columns)"
   ]
  },
  {
   "cell_type": "code",
   "execution_count": 45,
   "id": "e4e422dc",
   "metadata": {},
   "outputs": [],
   "source": [
    "df_rbeer = df_RBEER.drop(columns = ['DATAFLOW_ID:Dataflow ID', 'KEY:Timeseries Key', 'FREQ:Frequency',\n",
    "                                    'EER_TYPE:Type','EER_BASKET:Basket', 'Unit', 'Unit multiplier', \n",
    "                                    'OBS_CONF:Confidentiality','OBS_PRE_BREAK:Pre-break value', \n",
    "                                    'OBS_STATUS:Status'])"
   ]
  },
  {
   "cell_type": "code",
   "execution_count": 46,
   "id": "cffd939e",
   "metadata": {},
   "outputs": [],
   "source": [
    "df_rbeer.insert(1, 'Variable', 'RBEER')\n",
    "df_rbeer.columns = ['Country', 'Variable', 'Year', 'Value']"
   ]
  },
  {
   "cell_type": "code",
   "execution_count": 47,
   "id": "2d794dec",
   "metadata": {},
   "outputs": [
    {
     "data": {
      "text/html": [
       "<div>\n",
       "<style scoped>\n",
       "    .dataframe tbody tr th:only-of-type {\n",
       "        vertical-align: middle;\n",
       "    }\n",
       "\n",
       "    .dataframe tbody tr th {\n",
       "        vertical-align: top;\n",
       "    }\n",
       "\n",
       "    .dataframe thead th {\n",
       "        text-align: right;\n",
       "    }\n",
       "</style>\n",
       "<table border=\"1\" class=\"dataframe\">\n",
       "  <thead>\n",
       "    <tr style=\"text-align: right;\">\n",
       "      <th></th>\n",
       "      <th>Country</th>\n",
       "      <th>Variable</th>\n",
       "      <th>Year</th>\n",
       "      <th>Value</th>\n",
       "    </tr>\n",
       "  </thead>\n",
       "  <tbody>\n",
       "    <tr>\n",
       "      <th>0</th>\n",
       "      <td>AT:Austria</td>\n",
       "      <td>RBEER</td>\n",
       "      <td>1994-01-31</td>\n",
       "      <td>103.02</td>\n",
       "    </tr>\n",
       "    <tr>\n",
       "      <th>1</th>\n",
       "      <td>AT:Austria</td>\n",
       "      <td>RBEER</td>\n",
       "      <td>1994-02-28</td>\n",
       "      <td>102.50</td>\n",
       "    </tr>\n",
       "    <tr>\n",
       "      <th>2</th>\n",
       "      <td>AT:Austria</td>\n",
       "      <td>RBEER</td>\n",
       "      <td>1994-03-31</td>\n",
       "      <td>103.43</td>\n",
       "    </tr>\n",
       "    <tr>\n",
       "      <th>3</th>\n",
       "      <td>AT:Austria</td>\n",
       "      <td>RBEER</td>\n",
       "      <td>1994-04-30</td>\n",
       "      <td>102.68</td>\n",
       "    </tr>\n",
       "    <tr>\n",
       "      <th>4</th>\n",
       "      <td>AT:Austria</td>\n",
       "      <td>RBEER</td>\n",
       "      <td>1994-05-31</td>\n",
       "      <td>103.33</td>\n",
       "    </tr>\n",
       "  </tbody>\n",
       "</table>\n",
       "</div>"
      ],
      "text/plain": [
       "      Country Variable        Year   Value\n",
       "0  AT:Austria    RBEER  1994-01-31  103.02\n",
       "1  AT:Austria    RBEER  1994-02-28  102.50\n",
       "2  AT:Austria    RBEER  1994-03-31  103.43\n",
       "3  AT:Austria    RBEER  1994-04-30  102.68\n",
       "4  AT:Austria    RBEER  1994-05-31  103.33"
      ]
     },
     "execution_count": 47,
     "metadata": {},
     "output_type": "execute_result"
    }
   ],
   "source": [
    "df_rbeer.head()"
   ]
  },
  {
   "cell_type": "code",
   "execution_count": 48,
   "id": "fb7cb90e",
   "metadata": {},
   "outputs": [
    {
     "data": {
      "text/html": [
       "<div>\n",
       "<style scoped>\n",
       "    .dataframe tbody tr th:only-of-type {\n",
       "        vertical-align: middle;\n",
       "    }\n",
       "\n",
       "    .dataframe tbody tr th {\n",
       "        vertical-align: top;\n",
       "    }\n",
       "\n",
       "    .dataframe thead th {\n",
       "        text-align: right;\n",
       "    }\n",
       "</style>\n",
       "<table border=\"1\" class=\"dataframe\">\n",
       "  <thead>\n",
       "    <tr style=\"text-align: right;\">\n",
       "      <th></th>\n",
       "      <th>Country</th>\n",
       "      <th>Variable</th>\n",
       "      <th>Year</th>\n",
       "      <th>Value</th>\n",
       "    </tr>\n",
       "  </thead>\n",
       "  <tbody>\n",
       "    <tr>\n",
       "      <th>0</th>\n",
       "      <td>Austria</td>\n",
       "      <td>RBEER</td>\n",
       "      <td>1994-01</td>\n",
       "      <td>103.02</td>\n",
       "    </tr>\n",
       "    <tr>\n",
       "      <th>1</th>\n",
       "      <td>Austria</td>\n",
       "      <td>RBEER</td>\n",
       "      <td>1994-02</td>\n",
       "      <td>102.50</td>\n",
       "    </tr>\n",
       "    <tr>\n",
       "      <th>2</th>\n",
       "      <td>Austria</td>\n",
       "      <td>RBEER</td>\n",
       "      <td>1994-03</td>\n",
       "      <td>103.43</td>\n",
       "    </tr>\n",
       "    <tr>\n",
       "      <th>3</th>\n",
       "      <td>Austria</td>\n",
       "      <td>RBEER</td>\n",
       "      <td>1994-04</td>\n",
       "      <td>102.68</td>\n",
       "    </tr>\n",
       "    <tr>\n",
       "      <th>4</th>\n",
       "      <td>Austria</td>\n",
       "      <td>RBEER</td>\n",
       "      <td>1994-05</td>\n",
       "      <td>103.33</td>\n",
       "    </tr>\n",
       "  </tbody>\n",
       "</table>\n",
       "</div>"
      ],
      "text/plain": [
       "   Country Variable     Year   Value\n",
       "0  Austria    RBEER  1994-01  103.02\n",
       "1  Austria    RBEER  1994-02  102.50\n",
       "2  Austria    RBEER  1994-03  103.43\n",
       "3  Austria    RBEER  1994-04  102.68\n",
       "4  Austria    RBEER  1994-05  103.33"
      ]
     },
     "execution_count": 48,
     "metadata": {},
     "output_type": "execute_result"
    }
   ],
   "source": [
    "df_rbeer['Year'] = df_rbeer['Year'].apply(lambda x: str(x)[:7])\n",
    "\n",
    "# https://pandas.pydata.org/docs/reference/api/pandas.Series.str.split.html\n",
    "# want to remove the initials of the country before it's name. split the text based on colon\n",
    "df_rbeer['Country'] = df_rbeer['Country'].apply(lambda x: str(x).split(':')[-1].strip())\n",
    "df_rbeer.head()"
   ]
  },
  {
   "cell_type": "code",
   "execution_count": 49,
   "id": "f8ca81e7",
   "metadata": {},
   "outputs": [],
   "source": [
    "# taking the log of the value\n",
    "df_rbeer['Value'] = np.log(df_rbeer['Value']) "
   ]
  },
  {
   "cell_type": "code",
   "execution_count": 50,
   "id": "b462fdf1",
   "metadata": {},
   "outputs": [],
   "source": [
    "# taking the average of the monthly data for every year\n",
    "df_rbeer['Year_Only'] = df_rbeer['Year'].str[:4].astype(int)\n",
    "\n",
    "\n",
    "# https://www.youtube.com/watch?app=desktop&v=txMdrV1Ut64&t=1640s\n",
    "country_year = df_rbeer.groupby(['Country', 'Year_Only'])\n",
    "\n",
    "\n",
    "# https://pandas.pydata.org/docs/user_guide/groupby.html#transformation\n",
    "# takes the average of the 12 months \n",
    "annual_average = country_year['Value'].transform('mean') \n",
    "\n",
    "# adding the average value to the colum \n",
    "df_rbeer['Annual Value'] = annual_average\n",
    "\n",
    "\n",
    "# https://pandas.pydata.org/docs/reference/api/pandas.DataFrame.drop_duplicates.html#pandas.DataFrame.drop_duplicates\n",
    "# removing the duplicates as already have the average value\n",
    "df_rbeer = df_rbeer.drop_duplicates(subset=['Country','Year_Only'], keep='first')"
   ]
  },
  {
   "cell_type": "code",
   "execution_count": 51,
   "id": "2aeea9f3",
   "metadata": {},
   "outputs": [
    {
     "data": {
      "text/html": [
       "<div>\n",
       "<style scoped>\n",
       "    .dataframe tbody tr th:only-of-type {\n",
       "        vertical-align: middle;\n",
       "    }\n",
       "\n",
       "    .dataframe tbody tr th {\n",
       "        vertical-align: top;\n",
       "    }\n",
       "\n",
       "    .dataframe thead th {\n",
       "        text-align: right;\n",
       "    }\n",
       "</style>\n",
       "<table border=\"1\" class=\"dataframe\">\n",
       "  <thead>\n",
       "    <tr style=\"text-align: right;\">\n",
       "      <th></th>\n",
       "      <th>Country</th>\n",
       "      <th>Variable</th>\n",
       "      <th>Year</th>\n",
       "      <th>Value</th>\n",
       "      <th>Year_Only</th>\n",
       "      <th>Annual Value</th>\n",
       "    </tr>\n",
       "  </thead>\n",
       "  <tbody>\n",
       "    <tr>\n",
       "      <th>0</th>\n",
       "      <td>Austria</td>\n",
       "      <td>RBEER</td>\n",
       "      <td>1994-01</td>\n",
       "      <td>4.634923</td>\n",
       "      <td>1994</td>\n",
       "      <td>4.644347</td>\n",
       "    </tr>\n",
       "    <tr>\n",
       "      <th>1</th>\n",
       "      <td>Austria</td>\n",
       "      <td>RBEER</td>\n",
       "      <td>1995-01</td>\n",
       "      <td>4.655103</td>\n",
       "      <td>1995</td>\n",
       "      <td>4.669515</td>\n",
       "    </tr>\n",
       "    <tr>\n",
       "      <th>2</th>\n",
       "      <td>Austria</td>\n",
       "      <td>RBEER</td>\n",
       "      <td>1996-01</td>\n",
       "      <td>4.654056</td>\n",
       "      <td>1996</td>\n",
       "      <td>4.639413</td>\n",
       "    </tr>\n",
       "    <tr>\n",
       "      <th>3</th>\n",
       "      <td>Austria</td>\n",
       "      <td>RBEER</td>\n",
       "      <td>1997-01</td>\n",
       "      <td>4.615319</td>\n",
       "      <td>1997</td>\n",
       "      <td>4.599126</td>\n",
       "    </tr>\n",
       "    <tr>\n",
       "      <th>4</th>\n",
       "      <td>Austria</td>\n",
       "      <td>RBEER</td>\n",
       "      <td>1998-01</td>\n",
       "      <td>4.599454</td>\n",
       "      <td>1998</td>\n",
       "      <td>4.602792</td>\n",
       "    </tr>\n",
       "  </tbody>\n",
       "</table>\n",
       "</div>"
      ],
      "text/plain": [
       "   Country Variable     Year     Value  Year_Only  Annual Value\n",
       "0  Austria    RBEER  1994-01  4.634923       1994      4.644347\n",
       "1  Austria    RBEER  1995-01  4.655103       1995      4.669515\n",
       "2  Austria    RBEER  1996-01  4.654056       1996      4.639413\n",
       "3  Austria    RBEER  1997-01  4.615319       1997      4.599126\n",
       "4  Austria    RBEER  1998-01  4.599454       1998      4.602792"
      ]
     },
     "execution_count": 51,
     "metadata": {},
     "output_type": "execute_result"
    }
   ],
   "source": [
    "df_rbeer = df_rbeer.reset_index(drop=True) \n",
    "\n",
    "df_rbeer.head()"
   ]
  },
  {
   "cell_type": "code",
   "execution_count": 52,
   "id": "8d39aa5c",
   "metadata": {},
   "outputs": [],
   "source": [
    "df_rbeer = df_rbeer.drop(columns = ['Year', 'Value'])\n",
    "df_rbeer.columns = ['Country', 'Variable', 'Year', 'Value']"
   ]
  },
  {
   "cell_type": "code",
   "execution_count": 53,
   "id": "0f2e17c7",
   "metadata": {},
   "outputs": [
    {
     "data": {
      "text/html": [
       "<div>\n",
       "<style scoped>\n",
       "    .dataframe tbody tr th:only-of-type {\n",
       "        vertical-align: middle;\n",
       "    }\n",
       "\n",
       "    .dataframe tbody tr th {\n",
       "        vertical-align: top;\n",
       "    }\n",
       "\n",
       "    .dataframe thead th {\n",
       "        text-align: right;\n",
       "    }\n",
       "</style>\n",
       "<table border=\"1\" class=\"dataframe\">\n",
       "  <thead>\n",
       "    <tr style=\"text-align: right;\">\n",
       "      <th></th>\n",
       "      <th>Country</th>\n",
       "      <th>Variable</th>\n",
       "      <th>Year</th>\n",
       "      <th>Value</th>\n",
       "    </tr>\n",
       "  </thead>\n",
       "  <tbody>\n",
       "    <tr>\n",
       "      <th>0</th>\n",
       "      <td>Austria</td>\n",
       "      <td>RBEER</td>\n",
       "      <td>1994</td>\n",
       "      <td>4.644347</td>\n",
       "    </tr>\n",
       "    <tr>\n",
       "      <th>1</th>\n",
       "      <td>Austria</td>\n",
       "      <td>RBEER</td>\n",
       "      <td>1995</td>\n",
       "      <td>4.669515</td>\n",
       "    </tr>\n",
       "    <tr>\n",
       "      <th>2</th>\n",
       "      <td>Austria</td>\n",
       "      <td>RBEER</td>\n",
       "      <td>1996</td>\n",
       "      <td>4.639413</td>\n",
       "    </tr>\n",
       "    <tr>\n",
       "      <th>3</th>\n",
       "      <td>Austria</td>\n",
       "      <td>RBEER</td>\n",
       "      <td>1997</td>\n",
       "      <td>4.599126</td>\n",
       "    </tr>\n",
       "    <tr>\n",
       "      <th>4</th>\n",
       "      <td>Austria</td>\n",
       "      <td>RBEER</td>\n",
       "      <td>1998</td>\n",
       "      <td>4.602792</td>\n",
       "    </tr>\n",
       "  </tbody>\n",
       "</table>\n",
       "</div>"
      ],
      "text/plain": [
       "   Country Variable  Year     Value\n",
       "0  Austria    RBEER  1994  4.644347\n",
       "1  Austria    RBEER  1995  4.669515\n",
       "2  Austria    RBEER  1996  4.639413\n",
       "3  Austria    RBEER  1997  4.599126\n",
       "4  Austria    RBEER  1998  4.602792"
      ]
     },
     "execution_count": 53,
     "metadata": {},
     "output_type": "execute_result"
    }
   ],
   "source": [
    "df_rbeer.head()"
   ]
  },
  {
   "cell_type": "code",
   "execution_count": 54,
   "id": "a7973f9e",
   "metadata": {},
   "outputs": [
    {
     "data": {
      "text/plain": [
       "array(['Austria', 'Australia', 'Belgium', 'Canada', 'Germany', 'Denmark',\n",
       "       'Finland', 'France', 'Greece', 'Hungary', 'Ireland', 'Iceland',\n",
       "       'Italy', 'Japan', 'Korea', 'Latvia', 'Switzerland', 'Spain',\n",
       "       'United Kingdom', 'Lithuania', 'Luxembourg', 'Mexico',\n",
       "       'Netherlands', 'Norway', 'New Zealand', 'Poland', 'Portugal',\n",
       "       'Sweden', 'United States'], dtype=object)"
      ]
     },
     "execution_count": 54,
     "metadata": {},
     "output_type": "execute_result"
    }
   ],
   "source": [
    "df_rbeer['Country'].unique()"
   ]
  },
  {
   "cell_type": "code",
   "execution_count": 55,
   "id": "c3b0d0d2",
   "metadata": {},
   "outputs": [
    {
     "data": {
      "text/plain": [
       "array(['Austria', 'Australia', 'Belgium', 'Canada', 'Germany', 'Denmark',\n",
       "       'Finland', 'France', 'Greece', 'Ireland', 'Italy', 'Japan',\n",
       "       'Switzerland', 'Spain', 'United Kingdom', 'Netherlands', 'Norway',\n",
       "       'New Zealand', 'Sweden', 'United States'], dtype=object)"
      ]
     },
     "execution_count": 55,
     "metadata": {},
     "output_type": "execute_result"
    }
   ],
   "source": [
    "df_rbeer = df_rbeer[df_rbeer['Country'].isin(countries_to_keep)]\n",
    "df_rbeer['Country'].unique()"
   ]
  },
  {
   "cell_type": "markdown",
   "id": "e2e38f43",
   "metadata": {},
   "source": [
    "     "
   ]
  },
  {
   "cell_type": "markdown",
   "id": "1ef0c10f",
   "metadata": {},
   "source": [
    "## Real Narrow Effective Exchange Rate       "
   ]
  },
  {
   "cell_type": "markdown",
   "id": "1229698e",
   "metadata": {},
   "source": [
    "Source: Bank for International Settlements   \n",
    "Units:  Index 2020 = 100, Not Seasonally Adjusted   \n",
    "Frequency:  Monthly  \n",
    "Reason: Might be useful for robustness though mainly plan to use RBEER    \n",
    "https://data.bis.org/topics/EER/data   "
   ]
  },
  {
   "cell_type": "code",
   "execution_count": 56,
   "id": "e20afb20",
   "metadata": {},
   "outputs": [],
   "source": [
    "df_RNEER_1 = pd.read_excel('/Users/aadityakumaryadav/Downloads/OECD Data/BIS Narrow 1.xlsx')\n",
    "df_RNEER_2 = pd.read_excel('/Users/aadityakumaryadav/Downloads/OECD Data/BIS Narrow 2.xlsx')"
   ]
  },
  {
   "cell_type": "code",
   "execution_count": 57,
   "id": "26b80c52",
   "metadata": {},
   "outputs": [],
   "source": [
    "countries_RNEER = [df_RNEER_1, df_RNEER_2]\n",
    "df_RNEER = pd.concat(countries_RNEER)"
   ]
  },
  {
   "cell_type": "code",
   "execution_count": 58,
   "id": "331f3500",
   "metadata": {},
   "outputs": [
    {
     "data": {
      "text/html": [
       "<div>\n",
       "<style scoped>\n",
       "    .dataframe tbody tr th:only-of-type {\n",
       "        vertical-align: middle;\n",
       "    }\n",
       "\n",
       "    .dataframe tbody tr th {\n",
       "        vertical-align: top;\n",
       "    }\n",
       "\n",
       "    .dataframe thead th {\n",
       "        text-align: right;\n",
       "    }\n",
       "</style>\n",
       "<table border=\"1\" class=\"dataframe\">\n",
       "  <thead>\n",
       "    <tr style=\"text-align: right;\">\n",
       "      <th></th>\n",
       "      <th>DATAFLOW_ID:Dataflow ID</th>\n",
       "      <th>KEY:Timeseries Key</th>\n",
       "      <th>FREQ:Frequency</th>\n",
       "      <th>EER_TYPE:Type</th>\n",
       "      <th>EER_BASKET:Basket</th>\n",
       "      <th>REF_AREA:Reference area</th>\n",
       "      <th>Unit</th>\n",
       "      <th>Unit multiplier</th>\n",
       "      <th>TIME_PERIOD:Period</th>\n",
       "      <th>OBS_CONF:Confidentiality</th>\n",
       "      <th>OBS_PRE_BREAK:Pre-break value</th>\n",
       "      <th>OBS_STATUS:Status</th>\n",
       "      <th>OBS_VALUE:Value</th>\n",
       "    </tr>\n",
       "  </thead>\n",
       "  <tbody>\n",
       "    <tr>\n",
       "      <th>0</th>\n",
       "      <td>BIS,WS_EER,1.0</td>\n",
       "      <td>M.R.N.CH</td>\n",
       "      <td>M:Monthly</td>\n",
       "      <td>R:Real</td>\n",
       "      <td>N:Narrow (27 economies)</td>\n",
       "      <td>CH:Switzerland</td>\n",
       "      <td>Index, 2020 = 100</td>\n",
       "      <td>NaN</td>\n",
       "      <td>1964-01-31</td>\n",
       "      <td>F:Free</td>\n",
       "      <td>NaN</td>\n",
       "      <td>A:Normal value</td>\n",
       "      <td>62.70</td>\n",
       "    </tr>\n",
       "    <tr>\n",
       "      <th>1</th>\n",
       "      <td>BIS,WS_EER,1.0</td>\n",
       "      <td>M.R.N.CH</td>\n",
       "      <td>M:Monthly</td>\n",
       "      <td>R:Real</td>\n",
       "      <td>N:Narrow (27 economies)</td>\n",
       "      <td>CH:Switzerland</td>\n",
       "      <td>Index, 2020 = 100</td>\n",
       "      <td>NaN</td>\n",
       "      <td>1964-02-29</td>\n",
       "      <td>F:Free</td>\n",
       "      <td>NaN</td>\n",
       "      <td>A:Normal value</td>\n",
       "      <td>62.51</td>\n",
       "    </tr>\n",
       "    <tr>\n",
       "      <th>2</th>\n",
       "      <td>BIS,WS_EER,1.0</td>\n",
       "      <td>M.R.N.CH</td>\n",
       "      <td>M:Monthly</td>\n",
       "      <td>R:Real</td>\n",
       "      <td>N:Narrow (27 economies)</td>\n",
       "      <td>CH:Switzerland</td>\n",
       "      <td>Index, 2020 = 100</td>\n",
       "      <td>NaN</td>\n",
       "      <td>1964-03-31</td>\n",
       "      <td>F:Free</td>\n",
       "      <td>NaN</td>\n",
       "      <td>A:Normal value</td>\n",
       "      <td>62.44</td>\n",
       "    </tr>\n",
       "    <tr>\n",
       "      <th>3</th>\n",
       "      <td>BIS,WS_EER,1.0</td>\n",
       "      <td>M.R.N.CH</td>\n",
       "      <td>M:Monthly</td>\n",
       "      <td>R:Real</td>\n",
       "      <td>N:Narrow (27 economies)</td>\n",
       "      <td>CH:Switzerland</td>\n",
       "      <td>Index, 2020 = 100</td>\n",
       "      <td>NaN</td>\n",
       "      <td>1964-04-30</td>\n",
       "      <td>F:Free</td>\n",
       "      <td>NaN</td>\n",
       "      <td>A:Normal value</td>\n",
       "      <td>62.64</td>\n",
       "    </tr>\n",
       "    <tr>\n",
       "      <th>4</th>\n",
       "      <td>BIS,WS_EER,1.0</td>\n",
       "      <td>M.R.N.CH</td>\n",
       "      <td>M:Monthly</td>\n",
       "      <td>R:Real</td>\n",
       "      <td>N:Narrow (27 economies)</td>\n",
       "      <td>CH:Switzerland</td>\n",
       "      <td>Index, 2020 = 100</td>\n",
       "      <td>NaN</td>\n",
       "      <td>1964-05-31</td>\n",
       "      <td>F:Free</td>\n",
       "      <td>NaN</td>\n",
       "      <td>A:Normal value</td>\n",
       "      <td>63.35</td>\n",
       "    </tr>\n",
       "  </tbody>\n",
       "</table>\n",
       "</div>"
      ],
      "text/plain": [
       "  DATAFLOW_ID:Dataflow ID KEY:Timeseries Key FREQ:Frequency EER_TYPE:Type  \\\n",
       "0          BIS,WS_EER,1.0           M.R.N.CH      M:Monthly        R:Real   \n",
       "1          BIS,WS_EER,1.0           M.R.N.CH      M:Monthly        R:Real   \n",
       "2          BIS,WS_EER,1.0           M.R.N.CH      M:Monthly        R:Real   \n",
       "3          BIS,WS_EER,1.0           M.R.N.CH      M:Monthly        R:Real   \n",
       "4          BIS,WS_EER,1.0           M.R.N.CH      M:Monthly        R:Real   \n",
       "\n",
       "         EER_BASKET:Basket REF_AREA:Reference area               Unit  \\\n",
       "0  N:Narrow (27 economies)          CH:Switzerland  Index, 2020 = 100   \n",
       "1  N:Narrow (27 economies)          CH:Switzerland  Index, 2020 = 100   \n",
       "2  N:Narrow (27 economies)          CH:Switzerland  Index, 2020 = 100   \n",
       "3  N:Narrow (27 economies)          CH:Switzerland  Index, 2020 = 100   \n",
       "4  N:Narrow (27 economies)          CH:Switzerland  Index, 2020 = 100   \n",
       "\n",
       "   Unit multiplier TIME_PERIOD:Period OBS_CONF:Confidentiality  \\\n",
       "0              NaN         1964-01-31                   F:Free   \n",
       "1              NaN         1964-02-29                   F:Free   \n",
       "2              NaN         1964-03-31                   F:Free   \n",
       "3              NaN         1964-04-30                   F:Free   \n",
       "4              NaN         1964-05-31                   F:Free   \n",
       "\n",
       "   OBS_PRE_BREAK:Pre-break value OBS_STATUS:Status  OBS_VALUE:Value  \n",
       "0                            NaN    A:Normal value            62.70  \n",
       "1                            NaN    A:Normal value            62.51  \n",
       "2                            NaN    A:Normal value            62.44  \n",
       "3                            NaN    A:Normal value            62.64  \n",
       "4                            NaN    A:Normal value            63.35  "
      ]
     },
     "execution_count": 58,
     "metadata": {},
     "output_type": "execute_result"
    }
   ],
   "source": [
    "df_RNEER.head()"
   ]
  },
  {
   "cell_type": "code",
   "execution_count": 59,
   "id": "d3cd18fc",
   "metadata": {},
   "outputs": [],
   "source": [
    "df_rneer = df_RNEER.drop(columns = ['DATAFLOW_ID:Dataflow ID', 'KEY:Timeseries Key', 'FREQ:Frequency',\n",
    "                                    'EER_TYPE:Type','EER_BASKET:Basket', 'Unit', 'Unit multiplier', \n",
    "                                    'OBS_CONF:Confidentiality','OBS_PRE_BREAK:Pre-break value', \n",
    "                                    'OBS_STATUS:Status'])"
   ]
  },
  {
   "cell_type": "code",
   "execution_count": 60,
   "id": "67e3cc53",
   "metadata": {
    "scrolled": true
   },
   "outputs": [],
   "source": [
    "df_rneer.insert(1, 'Variable', 'RNEER')\n",
    "df_rneer.columns = ['Country', 'Variable', 'Year', 'Value']"
   ]
  },
  {
   "cell_type": "code",
   "execution_count": 61,
   "id": "3ed08249",
   "metadata": {},
   "outputs": [
    {
     "data": {
      "text/html": [
       "<div>\n",
       "<style scoped>\n",
       "    .dataframe tbody tr th:only-of-type {\n",
       "        vertical-align: middle;\n",
       "    }\n",
       "\n",
       "    .dataframe tbody tr th {\n",
       "        vertical-align: top;\n",
       "    }\n",
       "\n",
       "    .dataframe thead th {\n",
       "        text-align: right;\n",
       "    }\n",
       "</style>\n",
       "<table border=\"1\" class=\"dataframe\">\n",
       "  <thead>\n",
       "    <tr style=\"text-align: right;\">\n",
       "      <th></th>\n",
       "      <th>Country</th>\n",
       "      <th>Variable</th>\n",
       "      <th>Year</th>\n",
       "      <th>Value</th>\n",
       "    </tr>\n",
       "  </thead>\n",
       "  <tbody>\n",
       "    <tr>\n",
       "      <th>0</th>\n",
       "      <td>CH:Switzerland</td>\n",
       "      <td>RNEER</td>\n",
       "      <td>1964-01-31</td>\n",
       "      <td>62.70</td>\n",
       "    </tr>\n",
       "    <tr>\n",
       "      <th>1</th>\n",
       "      <td>CH:Switzerland</td>\n",
       "      <td>RNEER</td>\n",
       "      <td>1964-02-29</td>\n",
       "      <td>62.51</td>\n",
       "    </tr>\n",
       "    <tr>\n",
       "      <th>2</th>\n",
       "      <td>CH:Switzerland</td>\n",
       "      <td>RNEER</td>\n",
       "      <td>1964-03-31</td>\n",
       "      <td>62.44</td>\n",
       "    </tr>\n",
       "    <tr>\n",
       "      <th>3</th>\n",
       "      <td>CH:Switzerland</td>\n",
       "      <td>RNEER</td>\n",
       "      <td>1964-04-30</td>\n",
       "      <td>62.64</td>\n",
       "    </tr>\n",
       "    <tr>\n",
       "      <th>4</th>\n",
       "      <td>CH:Switzerland</td>\n",
       "      <td>RNEER</td>\n",
       "      <td>1964-05-31</td>\n",
       "      <td>63.35</td>\n",
       "    </tr>\n",
       "  </tbody>\n",
       "</table>\n",
       "</div>"
      ],
      "text/plain": [
       "          Country Variable        Year  Value\n",
       "0  CH:Switzerland    RNEER  1964-01-31  62.70\n",
       "1  CH:Switzerland    RNEER  1964-02-29  62.51\n",
       "2  CH:Switzerland    RNEER  1964-03-31  62.44\n",
       "3  CH:Switzerland    RNEER  1964-04-30  62.64\n",
       "4  CH:Switzerland    RNEER  1964-05-31  63.35"
      ]
     },
     "execution_count": 61,
     "metadata": {},
     "output_type": "execute_result"
    }
   ],
   "source": [
    "df_rneer.head()  "
   ]
  },
  {
   "cell_type": "code",
   "execution_count": 62,
   "id": "5fba436d",
   "metadata": {},
   "outputs": [],
   "source": [
    "df_rneer['Year'] = df_rneer['Year'].apply(lambda x: str(x)[:7])\n",
    "\n",
    "# want to remove the initials of the country before it's name. split the text based on colon\n",
    "df_rneer['Country'] = df_rneer['Country'].apply(lambda x: str(x).split(':')[-1].strip())"
   ]
  },
  {
   "cell_type": "code",
   "execution_count": 63,
   "id": "095e47ef",
   "metadata": {},
   "outputs": [],
   "source": [
    "# taking the log of the value\n",
    "df_rneer['Value'] = np.log(df_rneer['Value']) "
   ]
  },
  {
   "cell_type": "code",
   "execution_count": 64,
   "id": "1408d87d",
   "metadata": {},
   "outputs": [],
   "source": [
    "# taking the average of the monthly data for every year\n",
    "df_rneer['Year_Only'] = df_rneer['Year'].str[:4].astype(int)\n",
    "\n",
    "\n",
    "# https://www.youtube.com/watch?app=desktop&v=txMdrV1Ut64&t=1640s\n",
    "country_year = df_rneer.groupby(['Country', 'Year_Only'])\n",
    "\n",
    "\n",
    "# https://pandas.pydata.org/docs/user_guide/groupby.html#transformation\n",
    "# takes the average of the 12 months \n",
    "annual_average = country_year['Value'].transform('mean') \n",
    "\n",
    "\n",
    "# adding the average value to the colum \n",
    "df_rneer['Annual Value'] = annual_average\n",
    "\n",
    "\n",
    "# removing the duplicates as already have the average value\n",
    "df_rneer = df_rneer.drop_duplicates(subset=['Country','Year_Only'], keep='first')"
   ]
  },
  {
   "cell_type": "code",
   "execution_count": 65,
   "id": "aeebb532",
   "metadata": {},
   "outputs": [
    {
     "data": {
      "text/html": [
       "<div>\n",
       "<style scoped>\n",
       "    .dataframe tbody tr th:only-of-type {\n",
       "        vertical-align: middle;\n",
       "    }\n",
       "\n",
       "    .dataframe tbody tr th {\n",
       "        vertical-align: top;\n",
       "    }\n",
       "\n",
       "    .dataframe thead th {\n",
       "        text-align: right;\n",
       "    }\n",
       "</style>\n",
       "<table border=\"1\" class=\"dataframe\">\n",
       "  <thead>\n",
       "    <tr style=\"text-align: right;\">\n",
       "      <th></th>\n",
       "      <th>Country</th>\n",
       "      <th>Variable</th>\n",
       "      <th>Year</th>\n",
       "      <th>Value</th>\n",
       "      <th>Year_Only</th>\n",
       "      <th>Annual Value</th>\n",
       "    </tr>\n",
       "  </thead>\n",
       "  <tbody>\n",
       "    <tr>\n",
       "      <th>0</th>\n",
       "      <td>Switzerland</td>\n",
       "      <td>RNEER</td>\n",
       "      <td>1964-01</td>\n",
       "      <td>4.138361</td>\n",
       "      <td>1964</td>\n",
       "      <td>4.138137</td>\n",
       "    </tr>\n",
       "    <tr>\n",
       "      <th>1</th>\n",
       "      <td>Switzerland</td>\n",
       "      <td>RNEER</td>\n",
       "      <td>1965-01</td>\n",
       "      <td>4.126005</td>\n",
       "      <td>1965</td>\n",
       "      <td>4.130696</td>\n",
       "    </tr>\n",
       "    <tr>\n",
       "      <th>2</th>\n",
       "      <td>Switzerland</td>\n",
       "      <td>RNEER</td>\n",
       "      <td>1966-01</td>\n",
       "      <td>4.139955</td>\n",
       "      <td>1966</td>\n",
       "      <td>4.142713</td>\n",
       "    </tr>\n",
       "    <tr>\n",
       "      <th>3</th>\n",
       "      <td>Switzerland</td>\n",
       "      <td>RNEER</td>\n",
       "      <td>1967-01</td>\n",
       "      <td>4.148675</td>\n",
       "      <td>1967</td>\n",
       "      <td>4.152984</td>\n",
       "    </tr>\n",
       "    <tr>\n",
       "      <th>4</th>\n",
       "      <td>Switzerland</td>\n",
       "      <td>RNEER</td>\n",
       "      <td>1968-01</td>\n",
       "      <td>4.170997</td>\n",
       "      <td>1968</td>\n",
       "      <td>4.170256</td>\n",
       "    </tr>\n",
       "  </tbody>\n",
       "</table>\n",
       "</div>"
      ],
      "text/plain": [
       "       Country Variable     Year     Value  Year_Only  Annual Value\n",
       "0  Switzerland    RNEER  1964-01  4.138361       1964      4.138137\n",
       "1  Switzerland    RNEER  1965-01  4.126005       1965      4.130696\n",
       "2  Switzerland    RNEER  1966-01  4.139955       1966      4.142713\n",
       "3  Switzerland    RNEER  1967-01  4.148675       1967      4.152984\n",
       "4  Switzerland    RNEER  1968-01  4.170997       1968      4.170256"
      ]
     },
     "execution_count": 65,
     "metadata": {},
     "output_type": "execute_result"
    }
   ],
   "source": [
    "df_rneer = df_rneer.reset_index(drop=True) \n",
    "\n",
    "df_rneer.head()"
   ]
  },
  {
   "cell_type": "code",
   "execution_count": 66,
   "id": "698db0f1",
   "metadata": {},
   "outputs": [],
   "source": [
    "# dropping the columns with montly data and renaming the annual ones\n",
    "df_rneer = df_rneer.drop(columns = ['Year', 'Value'])\n",
    "df_rneer.columns = ['Country', 'Variable', 'Year', 'Value']"
   ]
  },
  {
   "cell_type": "code",
   "execution_count": 67,
   "id": "6ca425d8",
   "metadata": {},
   "outputs": [
    {
     "data": {
      "text/html": [
       "<div>\n",
       "<style scoped>\n",
       "    .dataframe tbody tr th:only-of-type {\n",
       "        vertical-align: middle;\n",
       "    }\n",
       "\n",
       "    .dataframe tbody tr th {\n",
       "        vertical-align: top;\n",
       "    }\n",
       "\n",
       "    .dataframe thead th {\n",
       "        text-align: right;\n",
       "    }\n",
       "</style>\n",
       "<table border=\"1\" class=\"dataframe\">\n",
       "  <thead>\n",
       "    <tr style=\"text-align: right;\">\n",
       "      <th></th>\n",
       "      <th>Country</th>\n",
       "      <th>Variable</th>\n",
       "      <th>Year</th>\n",
       "      <th>Value</th>\n",
       "    </tr>\n",
       "  </thead>\n",
       "  <tbody>\n",
       "    <tr>\n",
       "      <th>0</th>\n",
       "      <td>Switzerland</td>\n",
       "      <td>RNEER</td>\n",
       "      <td>1964</td>\n",
       "      <td>4.138137</td>\n",
       "    </tr>\n",
       "    <tr>\n",
       "      <th>1</th>\n",
       "      <td>Switzerland</td>\n",
       "      <td>RNEER</td>\n",
       "      <td>1965</td>\n",
       "      <td>4.130696</td>\n",
       "    </tr>\n",
       "    <tr>\n",
       "      <th>2</th>\n",
       "      <td>Switzerland</td>\n",
       "      <td>RNEER</td>\n",
       "      <td>1966</td>\n",
       "      <td>4.142713</td>\n",
       "    </tr>\n",
       "    <tr>\n",
       "      <th>3</th>\n",
       "      <td>Switzerland</td>\n",
       "      <td>RNEER</td>\n",
       "      <td>1967</td>\n",
       "      <td>4.152984</td>\n",
       "    </tr>\n",
       "    <tr>\n",
       "      <th>4</th>\n",
       "      <td>Switzerland</td>\n",
       "      <td>RNEER</td>\n",
       "      <td>1968</td>\n",
       "      <td>4.170256</td>\n",
       "    </tr>\n",
       "  </tbody>\n",
       "</table>\n",
       "</div>"
      ],
      "text/plain": [
       "       Country Variable  Year     Value\n",
       "0  Switzerland    RNEER  1964  4.138137\n",
       "1  Switzerland    RNEER  1965  4.130696\n",
       "2  Switzerland    RNEER  1966  4.142713\n",
       "3  Switzerland    RNEER  1967  4.152984\n",
       "4  Switzerland    RNEER  1968  4.170256"
      ]
     },
     "execution_count": 67,
     "metadata": {},
     "output_type": "execute_result"
    }
   ],
   "source": [
    "df_rneer.head()"
   ]
  },
  {
   "cell_type": "code",
   "execution_count": 68,
   "id": "8f77a689",
   "metadata": {},
   "outputs": [
    {
     "data": {
      "text/plain": [
       "array(['Switzerland', 'Germany', 'Spain', 'United Kingdom', 'Greece',\n",
       "       'Ireland', 'Italy', 'Japan', 'Korea', 'Mexico', 'Netherlands',\n",
       "       'Norway', 'New Zealand', 'Portugal', 'Sweden', 'United States',\n",
       "       'Austria', 'Australia', 'Belgium', 'Canada', 'Denmark', 'Finland',\n",
       "       'France'], dtype=object)"
      ]
     },
     "execution_count": 68,
     "metadata": {},
     "output_type": "execute_result"
    }
   ],
   "source": [
    "df_rneer['Country'].unique()"
   ]
  },
  {
   "cell_type": "code",
   "execution_count": 69,
   "id": "5d4744b2",
   "metadata": {},
   "outputs": [
    {
     "data": {
      "text/plain": [
       "array(['Switzerland', 'Germany', 'Spain', 'United Kingdom', 'Greece',\n",
       "       'Ireland', 'Italy', 'Japan', 'Netherlands', 'Norway',\n",
       "       'New Zealand', 'Sweden', 'United States', 'Austria', 'Australia',\n",
       "       'Belgium', 'Canada', 'Denmark', 'Finland', 'France'], dtype=object)"
      ]
     },
     "execution_count": 69,
     "metadata": {},
     "output_type": "execute_result"
    }
   ],
   "source": [
    "df_rneer = df_rneer[df_rneer['Country'].isin(countries_to_keep)]\n",
    "df_rneer['Country'].unique()"
   ]
  },
  {
   "cell_type": "markdown",
   "id": "3cbdc9b8",
   "metadata": {},
   "source": [
    "    "
   ]
  },
  {
   "cell_type": "markdown",
   "id": "be6ae2a4",
   "metadata": {},
   "source": [
    "## Inflation Forecast (Expectations)         "
   ]
  },
  {
   "cell_type": "markdown",
   "id": "5d1e9b5d",
   "metadata": {},
   "source": [
    "Source: OECD   \n",
    "Frequency: Quarterly    \n",
    "https://www.oecd.org/en/data/indicators/inflation-forecast.html?oecdcontrol-68a15c79cc-var3=1971-Q1&oecdcontrol-68a15c79cc-var4=2025-Q4&oecdcontrol-68a15c79cc-var5=Q   "
   ]
  },
  {
   "cell_type": "code",
   "execution_count": 70,
   "id": "ad79b592",
   "metadata": {},
   "outputs": [],
   "source": [
    "# https://realpython.com/get-all-files-in-directory-python/#\n",
    "# reading all the csv files in the folder \n",
    "inflation_forecast = pathlib.Path('/Users/aadityakumaryadav/Downloads/OCED Inflation Forecast')\n",
    "files = list(inflation_forecast.glob('*.csv'))\n",
    "\n",
    "\n",
    "countries = []\n",
    "inflation_forecast = []\n",
    "\n",
    "\n",
    "for file in files: \n",
    "    \n",
    "    with open(file, 'r') as infl_f:\n",
    "        lines = infl_f.readlines()\n",
    "    \n",
    "        # country name in the third line\n",
    "        header_line = lines[2]\n",
    "        country = header_line.split(',')[1].replace('\"', '').strip()\n",
    "        countries.append(country)\n",
    "    \n",
    "    \n",
    "    # actual data starts from line 4, so only start reading from there\n",
    "    df = pd.read_csv(file, skiprows=3, names=['Year', 'Value'])\n",
    "    \n",
    "    df.insert(0, 'Country', country)\n",
    "    df.insert(1, 'Variable', 'inflation_expectations')\n",
    "\n",
    "    inflation_forecast.append(df)\n",
    "    \n",
    "    # only including the year and month \n",
    "    df['Year'] = df['Year'].apply(lambda x: (str(x)[:7]))\n",
    "        \n",
    "    \n",
    "# combining all the different data frames\n",
    "df_inflation_expectations = pd.concat(inflation_forecast)"
   ]
  },
  {
   "cell_type": "code",
   "execution_count": 71,
   "id": "5dfb62f7",
   "metadata": {},
   "outputs": [
    {
     "data": {
      "text/html": [
       "<div>\n",
       "<style scoped>\n",
       "    .dataframe tbody tr th:only-of-type {\n",
       "        vertical-align: middle;\n",
       "    }\n",
       "\n",
       "    .dataframe tbody tr th {\n",
       "        vertical-align: top;\n",
       "    }\n",
       "\n",
       "    .dataframe thead th {\n",
       "        text-align: right;\n",
       "    }\n",
       "</style>\n",
       "<table border=\"1\" class=\"dataframe\">\n",
       "  <thead>\n",
       "    <tr style=\"text-align: right;\">\n",
       "      <th></th>\n",
       "      <th>Country</th>\n",
       "      <th>Variable</th>\n",
       "      <th>Year</th>\n",
       "      <th>Value</th>\n",
       "    </tr>\n",
       "  </thead>\n",
       "  <tbody>\n",
       "    <tr>\n",
       "      <th>0</th>\n",
       "      <td>New Zealand</td>\n",
       "      <td>inflation_expectations</td>\n",
       "      <td>1971-01</td>\n",
       "      <td>0.102969</td>\n",
       "    </tr>\n",
       "    <tr>\n",
       "      <th>1</th>\n",
       "      <td>New Zealand</td>\n",
       "      <td>inflation_expectations</td>\n",
       "      <td>1971-04</td>\n",
       "      <td>0.110738</td>\n",
       "    </tr>\n",
       "    <tr>\n",
       "      <th>2</th>\n",
       "      <td>New Zealand</td>\n",
       "      <td>inflation_expectations</td>\n",
       "      <td>1971-07</td>\n",
       "      <td>0.111671</td>\n",
       "    </tr>\n",
       "    <tr>\n",
       "      <th>3</th>\n",
       "      <td>New Zealand</td>\n",
       "      <td>inflation_expectations</td>\n",
       "      <td>1971-10</td>\n",
       "      <td>0.090787</td>\n",
       "    </tr>\n",
       "    <tr>\n",
       "      <th>4</th>\n",
       "      <td>New Zealand</td>\n",
       "      <td>inflation_expectations</td>\n",
       "      <td>1972-01</td>\n",
       "      <td>0.085039</td>\n",
       "    </tr>\n",
       "  </tbody>\n",
       "</table>\n",
       "</div>"
      ],
      "text/plain": [
       "       Country                Variable     Year     Value\n",
       "0  New Zealand  inflation_expectations  1971-01  0.102969\n",
       "1  New Zealand  inflation_expectations  1971-04  0.110738\n",
       "2  New Zealand  inflation_expectations  1971-07  0.111671\n",
       "3  New Zealand  inflation_expectations  1971-10  0.090787\n",
       "4  New Zealand  inflation_expectations  1972-01  0.085039"
      ]
     },
     "execution_count": 71,
     "metadata": {},
     "output_type": "execute_result"
    }
   ],
   "source": [
    "df_inflation_expectations['Value'] = df_inflation_expectations['Value']/100\n",
    "\n",
    "\n",
    "df_inflation_expectations.head()"
   ]
  },
  {
   "cell_type": "code",
   "execution_count": 72,
   "id": "ca81ace7",
   "metadata": {},
   "outputs": [],
   "source": [
    "# taking the average of the quartely inflation expectations for every year\n",
    "df_inflation_expectations['Year_Only'] = df_inflation_expectations['Year'].str[:4].astype(int)\n",
    "\n",
    "\n",
    "country_year = df_inflation_expectations.groupby(['Country', 'Year_Only'])"
   ]
  },
  {
   "cell_type": "code",
   "execution_count": 73,
   "id": "645792b9",
   "metadata": {},
   "outputs": [],
   "source": [
    "# takes the average of the 12 months \n",
    "annual_average = country_year['Value'].transform('mean') \n",
    "\n",
    "\n",
    "# adding the average value to the column \n",
    "df_inflation_expectations['Annual Value'] = annual_average"
   ]
  },
  {
   "cell_type": "code",
   "execution_count": 74,
   "id": "43c53b69",
   "metadata": {},
   "outputs": [],
   "source": [
    "# removing the duplicates as already have the average value\n",
    "df_inflation_expectations = df_inflation_expectations.drop_duplicates(subset=['Country','Year_Only'], keep='first')"
   ]
  },
  {
   "cell_type": "code",
   "execution_count": 75,
   "id": "b4148b26",
   "metadata": {},
   "outputs": [
    {
     "data": {
      "text/html": [
       "<div>\n",
       "<style scoped>\n",
       "    .dataframe tbody tr th:only-of-type {\n",
       "        vertical-align: middle;\n",
       "    }\n",
       "\n",
       "    .dataframe tbody tr th {\n",
       "        vertical-align: top;\n",
       "    }\n",
       "\n",
       "    .dataframe thead th {\n",
       "        text-align: right;\n",
       "    }\n",
       "</style>\n",
       "<table border=\"1\" class=\"dataframe\">\n",
       "  <thead>\n",
       "    <tr style=\"text-align: right;\">\n",
       "      <th></th>\n",
       "      <th>Country</th>\n",
       "      <th>Variable</th>\n",
       "      <th>Year</th>\n",
       "      <th>Value</th>\n",
       "      <th>Year_Only</th>\n",
       "      <th>Annual Value</th>\n",
       "    </tr>\n",
       "  </thead>\n",
       "  <tbody>\n",
       "    <tr>\n",
       "      <th>0</th>\n",
       "      <td>New Zealand</td>\n",
       "      <td>inflation_expectations</td>\n",
       "      <td>1971-01</td>\n",
       "      <td>0.102969</td>\n",
       "      <td>1971</td>\n",
       "      <td>0.104041</td>\n",
       "    </tr>\n",
       "    <tr>\n",
       "      <th>1</th>\n",
       "      <td>New Zealand</td>\n",
       "      <td>inflation_expectations</td>\n",
       "      <td>1972-01</td>\n",
       "      <td>0.085039</td>\n",
       "      <td>1972</td>\n",
       "      <td>0.069604</td>\n",
       "    </tr>\n",
       "    <tr>\n",
       "      <th>2</th>\n",
       "      <td>New Zealand</td>\n",
       "      <td>inflation_expectations</td>\n",
       "      <td>1973-01</td>\n",
       "      <td>0.060461</td>\n",
       "      <td>1973</td>\n",
       "      <td>0.081461</td>\n",
       "    </tr>\n",
       "    <tr>\n",
       "      <th>3</th>\n",
       "      <td>New Zealand</td>\n",
       "      <td>inflation_expectations</td>\n",
       "      <td>1974-01</td>\n",
       "      <td>0.104250</td>\n",
       "      <td>1974</td>\n",
       "      <td>0.110855</td>\n",
       "    </tr>\n",
       "    <tr>\n",
       "      <th>4</th>\n",
       "      <td>New Zealand</td>\n",
       "      <td>inflation_expectations</td>\n",
       "      <td>1975-01</td>\n",
       "      <td>0.133294</td>\n",
       "      <td>1975</td>\n",
       "      <td>0.146593</td>\n",
       "    </tr>\n",
       "  </tbody>\n",
       "</table>\n",
       "</div>"
      ],
      "text/plain": [
       "       Country                Variable     Year     Value  Year_Only  \\\n",
       "0  New Zealand  inflation_expectations  1971-01  0.102969       1971   \n",
       "1  New Zealand  inflation_expectations  1972-01  0.085039       1972   \n",
       "2  New Zealand  inflation_expectations  1973-01  0.060461       1973   \n",
       "3  New Zealand  inflation_expectations  1974-01  0.104250       1974   \n",
       "4  New Zealand  inflation_expectations  1975-01  0.133294       1975   \n",
       "\n",
       "   Annual Value  \n",
       "0      0.104041  \n",
       "1      0.069604  \n",
       "2      0.081461  \n",
       "3      0.110855  \n",
       "4      0.146593  "
      ]
     },
     "execution_count": 75,
     "metadata": {},
     "output_type": "execute_result"
    }
   ],
   "source": [
    "df_inflation_expectations = df_inflation_expectations.reset_index(drop=True) \n",
    "\n",
    "df_inflation_expectations.head()"
   ]
  },
  {
   "cell_type": "code",
   "execution_count": 76,
   "id": "63cb8dca",
   "metadata": {},
   "outputs": [],
   "source": [
    "# dropping the columns with montly data and renaming the annual ones\n",
    "df_inflation_expectations = df_inflation_expectations.drop(columns = ['Year', 'Value'])\n",
    "df_inflation_expectations.columns = ['Country', 'Variable', 'Year', 'Value']"
   ]
  },
  {
   "cell_type": "code",
   "execution_count": 77,
   "id": "c572894b",
   "metadata": {},
   "outputs": [
    {
     "data": {
      "text/html": [
       "<div>\n",
       "<style scoped>\n",
       "    .dataframe tbody tr th:only-of-type {\n",
       "        vertical-align: middle;\n",
       "    }\n",
       "\n",
       "    .dataframe tbody tr th {\n",
       "        vertical-align: top;\n",
       "    }\n",
       "\n",
       "    .dataframe thead th {\n",
       "        text-align: right;\n",
       "    }\n",
       "</style>\n",
       "<table border=\"1\" class=\"dataframe\">\n",
       "  <thead>\n",
       "    <tr style=\"text-align: right;\">\n",
       "      <th></th>\n",
       "      <th>Country</th>\n",
       "      <th>Variable</th>\n",
       "      <th>Year</th>\n",
       "      <th>Value</th>\n",
       "    </tr>\n",
       "  </thead>\n",
       "  <tbody>\n",
       "    <tr>\n",
       "      <th>0</th>\n",
       "      <td>New Zealand</td>\n",
       "      <td>inflation_expectations</td>\n",
       "      <td>1971</td>\n",
       "      <td>0.104041</td>\n",
       "    </tr>\n",
       "    <tr>\n",
       "      <th>1</th>\n",
       "      <td>New Zealand</td>\n",
       "      <td>inflation_expectations</td>\n",
       "      <td>1972</td>\n",
       "      <td>0.069604</td>\n",
       "    </tr>\n",
       "    <tr>\n",
       "      <th>2</th>\n",
       "      <td>New Zealand</td>\n",
       "      <td>inflation_expectations</td>\n",
       "      <td>1973</td>\n",
       "      <td>0.081461</td>\n",
       "    </tr>\n",
       "    <tr>\n",
       "      <th>3</th>\n",
       "      <td>New Zealand</td>\n",
       "      <td>inflation_expectations</td>\n",
       "      <td>1974</td>\n",
       "      <td>0.110855</td>\n",
       "    </tr>\n",
       "    <tr>\n",
       "      <th>4</th>\n",
       "      <td>New Zealand</td>\n",
       "      <td>inflation_expectations</td>\n",
       "      <td>1975</td>\n",
       "      <td>0.146593</td>\n",
       "    </tr>\n",
       "  </tbody>\n",
       "</table>\n",
       "</div>"
      ],
      "text/plain": [
       "       Country                Variable  Year     Value\n",
       "0  New Zealand  inflation_expectations  1971  0.104041\n",
       "1  New Zealand  inflation_expectations  1972  0.069604\n",
       "2  New Zealand  inflation_expectations  1973  0.081461\n",
       "3  New Zealand  inflation_expectations  1974  0.110855\n",
       "4  New Zealand  inflation_expectations  1975  0.146593"
      ]
     },
     "execution_count": 77,
     "metadata": {},
     "output_type": "execute_result"
    }
   ],
   "source": [
    "df_inflation_expectations.head()"
   ]
  },
  {
   "cell_type": "code",
   "execution_count": 78,
   "id": "75f263f9",
   "metadata": {},
   "outputs": [
    {
     "data": {
      "text/plain": [
       "array(['New Zealand', 'Japan', 'Canada', 'Belgium', 'Iceland',\n",
       "       'Luxembourg', 'Portugal', 'Italy', 'Sweden', 'Austria', 'Korea',\n",
       "       'Denmark', 'Greece', 'Australia', 'Netherlands', 'Switzerland',\n",
       "       'Israel', 'Poland', 'Germany', 'United Kingdom', 'Norway',\n",
       "       'Finland', 'Spain', 'United States', 'Ireland', 'France'],\n",
       "      dtype=object)"
      ]
     },
     "execution_count": 78,
     "metadata": {},
     "output_type": "execute_result"
    }
   ],
   "source": [
    "df_inflation_expectations['Country'].unique()"
   ]
  },
  {
   "cell_type": "code",
   "execution_count": 79,
   "id": "ffae3438",
   "metadata": {},
   "outputs": [
    {
     "data": {
      "text/plain": [
       "array(['New Zealand', 'Japan', 'Canada', 'Belgium', 'Italy', 'Sweden',\n",
       "       'Austria', 'Denmark', 'Greece', 'Australia', 'Netherlands',\n",
       "       'Switzerland', 'Germany', 'United Kingdom', 'Norway', 'Finland',\n",
       "       'Spain', 'United States', 'Ireland', 'France'], dtype=object)"
      ]
     },
     "execution_count": 79,
     "metadata": {},
     "output_type": "execute_result"
    }
   ],
   "source": [
    "df_inflation_expectations = df_inflation_expectations[df_inflation_expectations['Country'].isin(countries_to_keep)]\n",
    "df_inflation_expectations['Country'].unique()"
   ]
  },
  {
   "cell_type": "markdown",
   "id": "8b173bff",
   "metadata": {},
   "source": [
    "              "
   ]
  },
  {
   "cell_type": "markdown",
   "id": "a59ac37a",
   "metadata": {},
   "source": [
    "## Data as of now"
   ]
  },
  {
   "cell_type": "code",
   "execution_count": 80,
   "id": "986dd1c7",
   "metadata": {},
   "outputs": [
    {
     "data": {
      "text/html": [
       "<div>\n",
       "<style scoped>\n",
       "    .dataframe tbody tr th:only-of-type {\n",
       "        vertical-align: middle;\n",
       "    }\n",
       "\n",
       "    .dataframe tbody tr th {\n",
       "        vertical-align: top;\n",
       "    }\n",
       "\n",
       "    .dataframe thead th {\n",
       "        text-align: right;\n",
       "    }\n",
       "</style>\n",
       "<table border=\"1\" class=\"dataframe\">\n",
       "  <thead>\n",
       "    <tr style=\"text-align: right;\">\n",
       "      <th></th>\n",
       "      <th>Country</th>\n",
       "      <th>Variable</th>\n",
       "      <th>Year</th>\n",
       "      <th>Value</th>\n",
       "    </tr>\n",
       "  </thead>\n",
       "  <tbody>\n",
       "    <tr>\n",
       "      <th>59</th>\n",
       "      <td>Denmark</td>\n",
       "      <td>CAPB</td>\n",
       "      <td>2003</td>\n",
       "      <td>0.024083</td>\n",
       "    </tr>\n",
       "    <tr>\n",
       "      <th>60</th>\n",
       "      <td>Denmark</td>\n",
       "      <td>CAPB</td>\n",
       "      <td>2002</td>\n",
       "      <td>0.021276</td>\n",
       "    </tr>\n",
       "  </tbody>\n",
       "</table>\n",
       "</div>"
      ],
      "text/plain": [
       "    Country Variable  Year     Value\n",
       "59  Denmark     CAPB  2003  0.024083\n",
       "60  Denmark     CAPB  2002  0.021276"
      ]
     },
     "execution_count": 80,
     "metadata": {},
     "output_type": "execute_result"
    }
   ],
   "source": [
    "df_capb.head(2)"
   ]
  },
  {
   "cell_type": "code",
   "execution_count": 81,
   "id": "ce3676f0",
   "metadata": {},
   "outputs": [
    {
     "data": {
      "text/html": [
       "<div>\n",
       "<style scoped>\n",
       "    .dataframe tbody tr th:only-of-type {\n",
       "        vertical-align: middle;\n",
       "    }\n",
       "\n",
       "    .dataframe tbody tr th {\n",
       "        vertical-align: top;\n",
       "    }\n",
       "\n",
       "    .dataframe thead th {\n",
       "        text-align: right;\n",
       "    }\n",
       "</style>\n",
       "<table border=\"1\" class=\"dataframe\">\n",
       "  <thead>\n",
       "    <tr style=\"text-align: right;\">\n",
       "      <th></th>\n",
       "      <th>Country</th>\n",
       "      <th>Variable</th>\n",
       "      <th>Year</th>\n",
       "      <th>Value</th>\n",
       "    </tr>\n",
       "  </thead>\n",
       "  <tbody>\n",
       "    <tr>\n",
       "      <th>0</th>\n",
       "      <td>Ireland</td>\n",
       "      <td>unemployment_rate</td>\n",
       "      <td>1985</td>\n",
       "      <td>0.177</td>\n",
       "    </tr>\n",
       "    <tr>\n",
       "      <th>1</th>\n",
       "      <td>Ireland</td>\n",
       "      <td>unemployment_rate</td>\n",
       "      <td>1986</td>\n",
       "      <td>0.181</td>\n",
       "    </tr>\n",
       "  </tbody>\n",
       "</table>\n",
       "</div>"
      ],
      "text/plain": [
       "   Country           Variable  Year  Value\n",
       "0  Ireland  unemployment_rate  1985  0.177\n",
       "1  Ireland  unemployment_rate  1986  0.181"
      ]
     },
     "execution_count": 81,
     "metadata": {},
     "output_type": "execute_result"
    }
   ],
   "source": [
    "df_unemployment.head(2)"
   ]
  },
  {
   "cell_type": "code",
   "execution_count": 82,
   "id": "56709a62",
   "metadata": {},
   "outputs": [
    {
     "data": {
      "text/html": [
       "<div>\n",
       "<style scoped>\n",
       "    .dataframe tbody tr th:only-of-type {\n",
       "        vertical-align: middle;\n",
       "    }\n",
       "\n",
       "    .dataframe tbody tr th {\n",
       "        vertical-align: top;\n",
       "    }\n",
       "\n",
       "    .dataframe thead th {\n",
       "        text-align: right;\n",
       "    }\n",
       "</style>\n",
       "<table border=\"1\" class=\"dataframe\">\n",
       "  <thead>\n",
       "    <tr style=\"text-align: right;\">\n",
       "      <th></th>\n",
       "      <th>Country</th>\n",
       "      <th>Variable</th>\n",
       "      <th>Year</th>\n",
       "      <th>Value</th>\n",
       "    </tr>\n",
       "  </thead>\n",
       "  <tbody>\n",
       "    <tr>\n",
       "      <th>0</th>\n",
       "      <td>Belgium</td>\n",
       "      <td>real_GDP</td>\n",
       "      <td>1998</td>\n",
       "      <td>6.155797</td>\n",
       "    </tr>\n",
       "    <tr>\n",
       "      <th>1</th>\n",
       "      <td>Belgium</td>\n",
       "      <td>real_GDP</td>\n",
       "      <td>1997</td>\n",
       "      <td>6.136368</td>\n",
       "    </tr>\n",
       "  </tbody>\n",
       "</table>\n",
       "</div>"
      ],
      "text/plain": [
       "   Country  Variable  Year     Value\n",
       "0  Belgium  real_GDP  1998  6.155797\n",
       "1  Belgium  real_GDP  1997  6.136368"
      ]
     },
     "execution_count": 82,
     "metadata": {},
     "output_type": "execute_result"
    }
   ],
   "source": [
    "df_real_GDP.head(2)"
   ]
  },
  {
   "cell_type": "code",
   "execution_count": 83,
   "id": "078d49df",
   "metadata": {},
   "outputs": [
    {
     "data": {
      "text/html": [
       "<div>\n",
       "<style scoped>\n",
       "    .dataframe tbody tr th:only-of-type {\n",
       "        vertical-align: middle;\n",
       "    }\n",
       "\n",
       "    .dataframe tbody tr th {\n",
       "        vertical-align: top;\n",
       "    }\n",
       "\n",
       "    .dataframe thead th {\n",
       "        text-align: right;\n",
       "    }\n",
       "</style>\n",
       "<table border=\"1\" class=\"dataframe\">\n",
       "  <thead>\n",
       "    <tr style=\"text-align: right;\">\n",
       "      <th></th>\n",
       "      <th>Country</th>\n",
       "      <th>Variable</th>\n",
       "      <th>Year</th>\n",
       "      <th>Value</th>\n",
       "    </tr>\n",
       "  </thead>\n",
       "  <tbody>\n",
       "    <tr>\n",
       "      <th>32</th>\n",
       "      <td>Germany</td>\n",
       "      <td>long_rates</td>\n",
       "      <td>2009</td>\n",
       "      <td>0.032222</td>\n",
       "    </tr>\n",
       "    <tr>\n",
       "      <th>33</th>\n",
       "      <td>Germany</td>\n",
       "      <td>long_rates</td>\n",
       "      <td>2008</td>\n",
       "      <td>0.039848</td>\n",
       "    </tr>\n",
       "  </tbody>\n",
       "</table>\n",
       "</div>"
      ],
      "text/plain": [
       "    Country    Variable  Year     Value\n",
       "32  Germany  long_rates  2009  0.032222\n",
       "33  Germany  long_rates  2008  0.039848"
      ]
     },
     "execution_count": 83,
     "metadata": {},
     "output_type": "execute_result"
    }
   ],
   "source": [
    "df_rates.head(2)"
   ]
  },
  {
   "cell_type": "code",
   "execution_count": 84,
   "id": "0402fafa",
   "metadata": {},
   "outputs": [
    {
     "data": {
      "text/html": [
       "<div>\n",
       "<style scoped>\n",
       "    .dataframe tbody tr th:only-of-type {\n",
       "        vertical-align: middle;\n",
       "    }\n",
       "\n",
       "    .dataframe tbody tr th {\n",
       "        vertical-align: top;\n",
       "    }\n",
       "\n",
       "    .dataframe thead th {\n",
       "        text-align: right;\n",
       "    }\n",
       "</style>\n",
       "<table border=\"1\" class=\"dataframe\">\n",
       "  <thead>\n",
       "    <tr style=\"text-align: right;\">\n",
       "      <th></th>\n",
       "      <th>Country</th>\n",
       "      <th>Variable</th>\n",
       "      <th>Year</th>\n",
       "      <th>Value</th>\n",
       "    </tr>\n",
       "  </thead>\n",
       "  <tbody>\n",
       "    <tr>\n",
       "      <th>0</th>\n",
       "      <td>Sweden</td>\n",
       "      <td>debt-GDP</td>\n",
       "      <td>1993</td>\n",
       "      <td>0.66096</td>\n",
       "    </tr>\n",
       "    <tr>\n",
       "      <th>1</th>\n",
       "      <td>Sweden</td>\n",
       "      <td>debt-GDP</td>\n",
       "      <td>1994</td>\n",
       "      <td>0.68551</td>\n",
       "    </tr>\n",
       "  </tbody>\n",
       "</table>\n",
       "</div>"
      ],
      "text/plain": [
       "  Country  Variable  Year    Value\n",
       "0  Sweden  debt-GDP  1993  0.66096\n",
       "1  Sweden  debt-GDP  1994  0.68551"
      ]
     },
     "execution_count": 84,
     "metadata": {},
     "output_type": "execute_result"
    }
   ],
   "source": [
    "df_debt.head(2)"
   ]
  },
  {
   "cell_type": "code",
   "execution_count": 85,
   "id": "2a783715",
   "metadata": {},
   "outputs": [
    {
     "data": {
      "text/html": [
       "<div>\n",
       "<style scoped>\n",
       "    .dataframe tbody tr th:only-of-type {\n",
       "        vertical-align: middle;\n",
       "    }\n",
       "\n",
       "    .dataframe tbody tr th {\n",
       "        vertical-align: top;\n",
       "    }\n",
       "\n",
       "    .dataframe thead th {\n",
       "        text-align: right;\n",
       "    }\n",
       "</style>\n",
       "<table border=\"1\" class=\"dataframe\">\n",
       "  <thead>\n",
       "    <tr style=\"text-align: right;\">\n",
       "      <th></th>\n",
       "      <th>Country</th>\n",
       "      <th>Variable</th>\n",
       "      <th>Year</th>\n",
       "      <th>Value</th>\n",
       "    </tr>\n",
       "  </thead>\n",
       "  <tbody>\n",
       "    <tr>\n",
       "      <th>0</th>\n",
       "      <td>Austria</td>\n",
       "      <td>RBEER</td>\n",
       "      <td>1994</td>\n",
       "      <td>4.644347</td>\n",
       "    </tr>\n",
       "    <tr>\n",
       "      <th>1</th>\n",
       "      <td>Austria</td>\n",
       "      <td>RBEER</td>\n",
       "      <td>1995</td>\n",
       "      <td>4.669515</td>\n",
       "    </tr>\n",
       "  </tbody>\n",
       "</table>\n",
       "</div>"
      ],
      "text/plain": [
       "   Country Variable  Year     Value\n",
       "0  Austria    RBEER  1994  4.644347\n",
       "1  Austria    RBEER  1995  4.669515"
      ]
     },
     "execution_count": 85,
     "metadata": {},
     "output_type": "execute_result"
    }
   ],
   "source": [
    "df_rbeer.head(2)"
   ]
  },
  {
   "cell_type": "code",
   "execution_count": 86,
   "id": "eff3c5ec",
   "metadata": {},
   "outputs": [
    {
     "data": {
      "text/html": [
       "<div>\n",
       "<style scoped>\n",
       "    .dataframe tbody tr th:only-of-type {\n",
       "        vertical-align: middle;\n",
       "    }\n",
       "\n",
       "    .dataframe tbody tr th {\n",
       "        vertical-align: top;\n",
       "    }\n",
       "\n",
       "    .dataframe thead th {\n",
       "        text-align: right;\n",
       "    }\n",
       "</style>\n",
       "<table border=\"1\" class=\"dataframe\">\n",
       "  <thead>\n",
       "    <tr style=\"text-align: right;\">\n",
       "      <th></th>\n",
       "      <th>Country</th>\n",
       "      <th>Variable</th>\n",
       "      <th>Year</th>\n",
       "      <th>Value</th>\n",
       "    </tr>\n",
       "  </thead>\n",
       "  <tbody>\n",
       "    <tr>\n",
       "      <th>0</th>\n",
       "      <td>Switzerland</td>\n",
       "      <td>RNEER</td>\n",
       "      <td>1964</td>\n",
       "      <td>4.138137</td>\n",
       "    </tr>\n",
       "    <tr>\n",
       "      <th>1</th>\n",
       "      <td>Switzerland</td>\n",
       "      <td>RNEER</td>\n",
       "      <td>1965</td>\n",
       "      <td>4.130696</td>\n",
       "    </tr>\n",
       "  </tbody>\n",
       "</table>\n",
       "</div>"
      ],
      "text/plain": [
       "       Country Variable  Year     Value\n",
       "0  Switzerland    RNEER  1964  4.138137\n",
       "1  Switzerland    RNEER  1965  4.130696"
      ]
     },
     "execution_count": 86,
     "metadata": {},
     "output_type": "execute_result"
    }
   ],
   "source": [
    "df_rneer.head(2)"
   ]
  },
  {
   "cell_type": "code",
   "execution_count": 87,
   "id": "86e6eb24",
   "metadata": {},
   "outputs": [
    {
     "data": {
      "text/html": [
       "<div>\n",
       "<style scoped>\n",
       "    .dataframe tbody tr th:only-of-type {\n",
       "        vertical-align: middle;\n",
       "    }\n",
       "\n",
       "    .dataframe tbody tr th {\n",
       "        vertical-align: top;\n",
       "    }\n",
       "\n",
       "    .dataframe thead th {\n",
       "        text-align: right;\n",
       "    }\n",
       "</style>\n",
       "<table border=\"1\" class=\"dataframe\">\n",
       "  <thead>\n",
       "    <tr style=\"text-align: right;\">\n",
       "      <th></th>\n",
       "      <th>Country</th>\n",
       "      <th>Variable</th>\n",
       "      <th>Year</th>\n",
       "      <th>Value</th>\n",
       "    </tr>\n",
       "  </thead>\n",
       "  <tbody>\n",
       "    <tr>\n",
       "      <th>0</th>\n",
       "      <td>New Zealand</td>\n",
       "      <td>inflation_expectations</td>\n",
       "      <td>1971</td>\n",
       "      <td>0.104041</td>\n",
       "    </tr>\n",
       "    <tr>\n",
       "      <th>1</th>\n",
       "      <td>New Zealand</td>\n",
       "      <td>inflation_expectations</td>\n",
       "      <td>1972</td>\n",
       "      <td>0.069604</td>\n",
       "    </tr>\n",
       "  </tbody>\n",
       "</table>\n",
       "</div>"
      ],
      "text/plain": [
       "       Country                Variable  Year     Value\n",
       "0  New Zealand  inflation_expectations  1971  0.104041\n",
       "1  New Zealand  inflation_expectations  1972  0.069604"
      ]
     },
     "execution_count": 87,
     "metadata": {},
     "output_type": "execute_result"
    }
   ],
   "source": [
    "df_inflation_expectations.head(2)"
   ]
  },
  {
   "cell_type": "code",
   "execution_count": 88,
   "id": "cd9c41b9",
   "metadata": {},
   "outputs": [],
   "source": [
    "df = [df_capb, df_unemployment, df_real_GDP, df_rates, df_debt, df_rbeer, df_rneer, df_inflation_expectations]"
   ]
  },
  {
   "cell_type": "code",
   "execution_count": 89,
   "id": "73404693",
   "metadata": {},
   "outputs": [],
   "source": [
    "df = pd.concat(df, ignore_index=True)"
   ]
  },
  {
   "cell_type": "code",
   "execution_count": 90,
   "id": "07a73abf",
   "metadata": {},
   "outputs": [],
   "source": [
    "# https://pandas.pydata.org/docs/reference/api/pandas.DataFrame.pivot.html\n",
    "df_long = df.pivot(index=['Country', 'Year'], columns='Variable', values='Value').reset_index()"
   ]
  },
  {
   "cell_type": "code",
   "execution_count": 91,
   "id": "add59868",
   "metadata": {},
   "outputs": [],
   "source": [
    "# drops any data that is after 2024\n",
    "df_long = df_long[df_long['Year'] <= 2024]\n",
    "\n",
    "# drop any data before 1999\n",
    "df_long = df_long[df_long['Year'] >= 1999]"
   ]
  },
  {
   "cell_type": "code",
   "execution_count": 92,
   "id": "d904c6dd",
   "metadata": {},
   "outputs": [
    {
     "data": {
      "text/html": [
       "<div>\n",
       "<style scoped>\n",
       "    .dataframe tbody tr th:only-of-type {\n",
       "        vertical-align: middle;\n",
       "    }\n",
       "\n",
       "    .dataframe tbody tr th {\n",
       "        vertical-align: top;\n",
       "    }\n",
       "\n",
       "    .dataframe thead th {\n",
       "        text-align: right;\n",
       "    }\n",
       "</style>\n",
       "<table border=\"1\" class=\"dataframe\">\n",
       "  <thead>\n",
       "    <tr style=\"text-align: right;\">\n",
       "      <th>Variable</th>\n",
       "      <th>Country</th>\n",
       "      <th>Year</th>\n",
       "      <th>CAPB</th>\n",
       "      <th>RBEER</th>\n",
       "      <th>RNEER</th>\n",
       "      <th>debt-GDP</th>\n",
       "      <th>inflation_expectations</th>\n",
       "      <th>long_rates</th>\n",
       "      <th>policy_rates</th>\n",
       "      <th>real_GDP</th>\n",
       "      <th>short_rates</th>\n",
       "      <th>unemployment_rate</th>\n",
       "    </tr>\n",
       "  </thead>\n",
       "  <tbody>\n",
       "    <tr>\n",
       "      <th>35</th>\n",
       "      <td>Australia</td>\n",
       "      <td>1999</td>\n",
       "      <td>0.032244</td>\n",
       "      <td>4.464690</td>\n",
       "      <td>4.374183</td>\n",
       "      <td>0.22544</td>\n",
       "      <td>0.014068</td>\n",
       "      <td>0.060093</td>\n",
       "      <td>0.048125</td>\n",
       "      <td>6.727831</td>\n",
       "      <td>0.050117</td>\n",
       "      <td>0.06867</td>\n",
       "    </tr>\n",
       "    <tr>\n",
       "      <th>36</th>\n",
       "      <td>Australia</td>\n",
       "      <td>2000</td>\n",
       "      <td>0.012316</td>\n",
       "      <td>4.416883</td>\n",
       "      <td>4.328219</td>\n",
       "      <td>0.19495</td>\n",
       "      <td>0.044471</td>\n",
       "      <td>0.063146</td>\n",
       "      <td>0.060000</td>\n",
       "      <td>6.747880</td>\n",
       "      <td>0.061775</td>\n",
       "      <td>0.06292</td>\n",
       "    </tr>\n",
       "    <tr>\n",
       "      <th>37</th>\n",
       "      <td>Australia</td>\n",
       "      <td>2001</td>\n",
       "      <td>0.001170</td>\n",
       "      <td>4.378270</td>\n",
       "      <td>4.291368</td>\n",
       "      <td>0.17106</td>\n",
       "      <td>0.044417</td>\n",
       "      <td>0.056153</td>\n",
       "      <td>0.048750</td>\n",
       "      <td>6.786905</td>\n",
       "      <td>0.048992</td>\n",
       "      <td>0.06775</td>\n",
       "    </tr>\n",
       "  </tbody>\n",
       "</table>\n",
       "</div>"
      ],
      "text/plain": [
       "Variable    Country  Year      CAPB     RBEER     RNEER  debt-GDP  \\\n",
       "35        Australia  1999  0.032244  4.464690  4.374183   0.22544   \n",
       "36        Australia  2000  0.012316  4.416883  4.328219   0.19495   \n",
       "37        Australia  2001  0.001170  4.378270  4.291368   0.17106   \n",
       "\n",
       "Variable  inflation_expectations  long_rates  policy_rates  real_GDP  \\\n",
       "35                      0.014068    0.060093      0.048125  6.727831   \n",
       "36                      0.044471    0.063146      0.060000  6.747880   \n",
       "37                      0.044417    0.056153      0.048750  6.786905   \n",
       "\n",
       "Variable  short_rates  unemployment_rate  \n",
       "35           0.050117            0.06867  \n",
       "36           0.061775            0.06292  \n",
       "37           0.048992            0.06775  "
      ]
     },
     "execution_count": 92,
     "metadata": {},
     "output_type": "execute_result"
    }
   ],
   "source": [
    "df_long.head(3)"
   ]
  },
  {
   "cell_type": "code",
   "execution_count": 93,
   "id": "86fd5d91",
   "metadata": {},
   "outputs": [],
   "source": [
    "# zero lower bound binary identification \n",
    "# policy rates below 0.25 will be classified as ZLB \n",
    "\n",
    "df_long.loc[df_long['policy_rates'] <= 0.0025, 'ZLB'] = 1\n",
    "df_long.loc[df_long['policy_rates'] >  0.0025, 'ZLB'] = 0"
   ]
  },
  {
   "cell_type": "code",
   "execution_count": 94,
   "id": "2e36f779",
   "metadata": {},
   "outputs": [
    {
     "data": {
      "text/html": [
       "<div>\n",
       "<style scoped>\n",
       "    .dataframe tbody tr th:only-of-type {\n",
       "        vertical-align: middle;\n",
       "    }\n",
       "\n",
       "    .dataframe tbody tr th {\n",
       "        vertical-align: top;\n",
       "    }\n",
       "\n",
       "    .dataframe thead th {\n",
       "        text-align: right;\n",
       "    }\n",
       "</style>\n",
       "<table border=\"1\" class=\"dataframe\">\n",
       "  <thead>\n",
       "    <tr style=\"text-align: right;\">\n",
       "      <th>Variable</th>\n",
       "      <th>Country</th>\n",
       "      <th>Year</th>\n",
       "      <th>CAPB</th>\n",
       "      <th>RBEER</th>\n",
       "      <th>RNEER</th>\n",
       "      <th>debt-GDP</th>\n",
       "      <th>inflation_expectations</th>\n",
       "      <th>long_rates</th>\n",
       "      <th>policy_rates</th>\n",
       "      <th>real_GDP</th>\n",
       "      <th>short_rates</th>\n",
       "      <th>unemployment_rate</th>\n",
       "      <th>ZLB</th>\n",
       "    </tr>\n",
       "  </thead>\n",
       "  <tbody>\n",
       "    <tr>\n",
       "      <th>35</th>\n",
       "      <td>Australia</td>\n",
       "      <td>1999</td>\n",
       "      <td>0.032244</td>\n",
       "      <td>4.464690</td>\n",
       "      <td>4.374183</td>\n",
       "      <td>0.22544</td>\n",
       "      <td>0.014068</td>\n",
       "      <td>0.060093</td>\n",
       "      <td>0.048125</td>\n",
       "      <td>6.727831</td>\n",
       "      <td>0.050117</td>\n",
       "      <td>0.06867</td>\n",
       "      <td>0.0</td>\n",
       "    </tr>\n",
       "    <tr>\n",
       "      <th>36</th>\n",
       "      <td>Australia</td>\n",
       "      <td>2000</td>\n",
       "      <td>0.012316</td>\n",
       "      <td>4.416883</td>\n",
       "      <td>4.328219</td>\n",
       "      <td>0.19495</td>\n",
       "      <td>0.044471</td>\n",
       "      <td>0.063146</td>\n",
       "      <td>0.060000</td>\n",
       "      <td>6.747880</td>\n",
       "      <td>0.061775</td>\n",
       "      <td>0.06292</td>\n",
       "      <td>0.0</td>\n",
       "    </tr>\n",
       "    <tr>\n",
       "      <th>37</th>\n",
       "      <td>Australia</td>\n",
       "      <td>2001</td>\n",
       "      <td>0.001170</td>\n",
       "      <td>4.378270</td>\n",
       "      <td>4.291368</td>\n",
       "      <td>0.17106</td>\n",
       "      <td>0.044417</td>\n",
       "      <td>0.056153</td>\n",
       "      <td>0.048750</td>\n",
       "      <td>6.786905</td>\n",
       "      <td>0.048992</td>\n",
       "      <td>0.06775</td>\n",
       "      <td>0.0</td>\n",
       "    </tr>\n",
       "  </tbody>\n",
       "</table>\n",
       "</div>"
      ],
      "text/plain": [
       "Variable    Country  Year      CAPB     RBEER     RNEER  debt-GDP  \\\n",
       "35        Australia  1999  0.032244  4.464690  4.374183   0.22544   \n",
       "36        Australia  2000  0.012316  4.416883  4.328219   0.19495   \n",
       "37        Australia  2001  0.001170  4.378270  4.291368   0.17106   \n",
       "\n",
       "Variable  inflation_expectations  long_rates  policy_rates  real_GDP  \\\n",
       "35                      0.014068    0.060093      0.048125  6.727831   \n",
       "36                      0.044471    0.063146      0.060000  6.747880   \n",
       "37                      0.044417    0.056153      0.048750  6.786905   \n",
       "\n",
       "Variable  short_rates  unemployment_rate  ZLB  \n",
       "35           0.050117            0.06867  0.0  \n",
       "36           0.061775            0.06292  0.0  \n",
       "37           0.048992            0.06775  0.0  "
      ]
     },
     "execution_count": 94,
     "metadata": {},
     "output_type": "execute_result"
    }
   ],
   "source": [
    "df_long.head(3)"
   ]
  },
  {
   "cell_type": "code",
   "execution_count": 95,
   "id": "d929d385",
   "metadata": {},
   "outputs": [],
   "source": [
    "# no index in the excel sheet \n",
    "df_long.to_excel(\"countries_long.xlsx\", index=False)"
   ]
  },
  {
   "cell_type": "markdown",
   "id": "068d08f8",
   "metadata": {},
   "source": [
    "**Note**    \n",
    "- United States observation for 1999-200 for debt-GDP and policy rates 1999-2002 were missing. Missing data values were replaced from the data obtained from the Federal Reserve Bank of St Louis. Note that these values were also used in the regression for United States.      \n",
    "https://fred.stlouisfed.org         \n",
    "- Switzerland switched from monetary targeting to inflation targeting. Hence, the policy rate for the year 1999 is missing.         \n",
    "- In several periods, the policy rates for Korea are missing. However, it might not be even necessary to include Korea in the regression because the rates have not hit the ZLB. It will be dropped from the data set. "
   ]
  }
 ],
 "metadata": {
  "kernelspec": {
   "display_name": "Python 3 (ipykernel)",
   "language": "python",
   "name": "python3"
  },
  "language_info": {
   "codemirror_mode": {
    "name": "ipython",
    "version": 3
   },
   "file_extension": ".py",
   "mimetype": "text/x-python",
   "name": "python",
   "nbconvert_exporter": "python",
   "pygments_lexer": "ipython3",
   "version": "3.10.17"
  }
 },
 "nbformat": 4,
 "nbformat_minor": 5
}
